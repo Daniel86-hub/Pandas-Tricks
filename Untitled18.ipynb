{
 "cells": [
  {
   "cell_type": "code",
   "execution_count": 1,
   "id": "cf07c165",
   "metadata": {},
   "outputs": [],
   "source": [
    "import pandas as pd\n",
    "import numpy as np\n",
    "import seaborn as sns\n",
    "import os"
   ]
  },
  {
   "cell_type": "code",
   "execution_count": 2,
   "id": "6fed19d5",
   "metadata": {},
   "outputs": [
    {
     "name": "stderr",
     "output_type": "stream",
     "text": [
      "C:\\Users\\Dan Masibo\\AppData\\Local\\Temp\\ipykernel_11312\\2056548367.py:4: FutureWarning: The default value of regex will change from True to False in a future version. In addition, single character regular expressions will *not* be treated as literal strings when regex=True.\n",
      "  orders['item_price']=orders.item_price.str.replace('$', '').astype('float')\n"
     ]
    }
   ],
   "source": [
    "drinks=pd.read_csv('http://bit.ly/drinksbycountry')\n",
    "movies=pd.read_csv('http://bit.ly/imdbratings')\n",
    "orders=pd.read_csv('http://bit.ly/chiporders', sep='\\t')\n",
    "orders['item_price']=orders.item_price.str.replace('$', '').astype('float')\n",
    "stocks=pd.read_csv('http://bit.ly/smallstocks', parse_dates=['Date'])\n",
    "titanic=pd.read_csv('http://bit.ly/kaggletrain')\n",
    "ufo=pd.read_csv('http://bit.ly/uforeports', parse_dates=['Time'])"
   ]
  },
  {
   "cell_type": "markdown",
   "id": "2402282e",
   "metadata": {},
   "source": [
    "## 1. show installed versions"
   ]
  },
  {
   "cell_type": "code",
   "execution_count": 3,
   "id": "4d3458a7",
   "metadata": {},
   "outputs": [
    {
     "data": {
      "text/plain": [
       "'1.4.2'"
      ]
     },
     "execution_count": 3,
     "metadata": {},
     "output_type": "execute_result"
    }
   ],
   "source": [
    "pd.__version__"
   ]
  },
  {
   "cell_type": "code",
   "execution_count": 4,
   "id": "8ba7aafe",
   "metadata": {},
   "outputs": [
    {
     "data": {
      "text/plain": [
       "'1.21.5'"
      ]
     },
     "execution_count": 4,
     "metadata": {},
     "output_type": "execute_result"
    }
   ],
   "source": [
    "np.__version__"
   ]
  },
  {
   "cell_type": "code",
   "execution_count": 5,
   "id": "768df507",
   "metadata": {},
   "outputs": [
    {
     "data": {
      "text/plain": [
       "'0.11.2'"
      ]
     },
     "execution_count": 5,
     "metadata": {},
     "output_type": "execute_result"
    }
   ],
   "source": [
    "sns.__version__"
   ]
  },
  {
   "cell_type": "markdown",
   "id": "80daf9c3",
   "metadata": {},
   "source": [
    "## 2. create a DataFrame"
   ]
  },
  {
   "cell_type": "code",
   "execution_count": 6,
   "id": "9bcbc6b0",
   "metadata": {},
   "outputs": [
    {
     "data": {
      "text/html": [
       "<div>\n",
       "<style scoped>\n",
       "    .dataframe tbody tr th:only-of-type {\n",
       "        vertical-align: middle;\n",
       "    }\n",
       "\n",
       "    .dataframe tbody tr th {\n",
       "        vertical-align: top;\n",
       "    }\n",
       "\n",
       "    .dataframe thead th {\n",
       "        text-align: right;\n",
       "    }\n",
       "</style>\n",
       "<table border=\"1\" class=\"dataframe\">\n",
       "  <thead>\n",
       "    <tr style=\"text-align: right;\">\n",
       "      <th></th>\n",
       "      <th>col one</th>\n",
       "      <th>col two</th>\n",
       "    </tr>\n",
       "  </thead>\n",
       "  <tbody>\n",
       "    <tr>\n",
       "      <th>0</th>\n",
       "      <td>200</td>\n",
       "      <td>400</td>\n",
       "    </tr>\n",
       "    <tr>\n",
       "      <th>1</th>\n",
       "      <td>300</td>\n",
       "      <td>500</td>\n",
       "    </tr>\n",
       "    <tr>\n",
       "      <th>2</th>\n",
       "      <td>600</td>\n",
       "      <td>800</td>\n",
       "    </tr>\n",
       "  </tbody>\n",
       "</table>\n",
       "</div>"
      ],
      "text/plain": [
       "    col one   col two \n",
       "0        200       400\n",
       "1        300       500\n",
       "2        600       800"
      ]
     },
     "execution_count": 6,
     "metadata": {},
     "output_type": "execute_result"
    }
   ],
   "source": [
    "df=pd.DataFrame({' col one ':[200, 300, 600],\n",
    "                'col two ':[400, 500, 800]})\n",
    "df"
   ]
  },
  {
   "cell_type": "code",
   "execution_count": 7,
   "id": "1b40c909",
   "metadata": {},
   "outputs": [],
   "source": [
    "# df.columns=df.columns.str.replace(' ', '_')"
   ]
  },
  {
   "cell_type": "code",
   "execution_count": 8,
   "id": "2aba48eb",
   "metadata": {},
   "outputs": [
    {
     "data": {
      "text/html": [
       "<div>\n",
       "<style scoped>\n",
       "    .dataframe tbody tr th:only-of-type {\n",
       "        vertical-align: middle;\n",
       "    }\n",
       "\n",
       "    .dataframe tbody tr th {\n",
       "        vertical-align: top;\n",
       "    }\n",
       "\n",
       "    .dataframe thead th {\n",
       "        text-align: right;\n",
       "    }\n",
       "</style>\n",
       "<table border=\"1\" class=\"dataframe\">\n",
       "  <thead>\n",
       "    <tr style=\"text-align: right;\">\n",
       "      <th></th>\n",
       "      <th>col one</th>\n",
       "      <th>col two</th>\n",
       "    </tr>\n",
       "  </thead>\n",
       "  <tbody>\n",
       "    <tr>\n",
       "      <th>0</th>\n",
       "      <td>200</td>\n",
       "      <td>400</td>\n",
       "    </tr>\n",
       "    <tr>\n",
       "      <th>1</th>\n",
       "      <td>300</td>\n",
       "      <td>500</td>\n",
       "    </tr>\n",
       "    <tr>\n",
       "      <th>2</th>\n",
       "      <td>600</td>\n",
       "      <td>800</td>\n",
       "    </tr>\n",
       "  </tbody>\n",
       "</table>\n",
       "</div>"
      ],
      "text/plain": [
       "    col one   col two \n",
       "0        200       400\n",
       "1        300       500\n",
       "2        600       800"
      ]
     },
     "execution_count": 8,
     "metadata": {},
     "output_type": "execute_result"
    }
   ],
   "source": [
    "df"
   ]
  },
  {
   "cell_type": "code",
   "execution_count": 9,
   "id": "69a4921a",
   "metadata": {},
   "outputs": [
    {
     "data": {
      "text/plain": [
       "Index([' col one ', 'col two '], dtype='object')"
      ]
     },
     "execution_count": 9,
     "metadata": {},
     "output_type": "execute_result"
    }
   ],
   "source": [
    "df.columns"
   ]
  },
  {
   "cell_type": "code",
   "execution_count": 10,
   "id": "ee7fd017",
   "metadata": {},
   "outputs": [],
   "source": [
    "# df.columns=df.columns.str.lstrip()"
   ]
  },
  {
   "cell_type": "code",
   "execution_count": 11,
   "id": "9caaad59",
   "metadata": {},
   "outputs": [
    {
     "data": {
      "text/plain": [
       "Index([' col one ', 'col two '], dtype='object')"
      ]
     },
     "execution_count": 11,
     "metadata": {},
     "output_type": "execute_result"
    }
   ],
   "source": [
    "df.columns"
   ]
  },
  {
   "cell_type": "code",
   "execution_count": 12,
   "id": "fc9aa559",
   "metadata": {},
   "outputs": [],
   "source": [
    "# df.columns=df.columns.str.rstrip()"
   ]
  },
  {
   "cell_type": "code",
   "execution_count": 13,
   "id": "557f0f98",
   "metadata": {},
   "outputs": [
    {
     "data": {
      "text/plain": [
       "Index([' col one ', 'col two '], dtype='object')"
      ]
     },
     "execution_count": 13,
     "metadata": {},
     "output_type": "execute_result"
    }
   ],
   "source": [
    "df.columns"
   ]
  },
  {
   "cell_type": "code",
   "execution_count": 14,
   "id": "86ffcf68",
   "metadata": {},
   "outputs": [
    {
     "data": {
      "text/plain": [
       "Index(['col one', 'col two'], dtype='object')"
      ]
     },
     "execution_count": 14,
     "metadata": {},
     "output_type": "execute_result"
    }
   ],
   "source": [
    "df.columns=df.columns.str.strip()\n",
    "df.columns"
   ]
  },
  {
   "cell_type": "code",
   "execution_count": 15,
   "id": "5524465d",
   "metadata": {},
   "outputs": [
    {
     "data": {
      "text/html": [
       "<div>\n",
       "<style scoped>\n",
       "    .dataframe tbody tr th:only-of-type {\n",
       "        vertical-align: middle;\n",
       "    }\n",
       "\n",
       "    .dataframe tbody tr th {\n",
       "        vertical-align: top;\n",
       "    }\n",
       "\n",
       "    .dataframe thead th {\n",
       "        text-align: right;\n",
       "    }\n",
       "</style>\n",
       "<table border=\"1\" class=\"dataframe\">\n",
       "  <thead>\n",
       "    <tr style=\"text-align: right;\">\n",
       "      <th></th>\n",
       "      <th>col one</th>\n",
       "      <th>col two</th>\n",
       "    </tr>\n",
       "  </thead>\n",
       "  <tbody>\n",
       "    <tr>\n",
       "      <th>0</th>\n",
       "      <td>200</td>\n",
       "      <td>400</td>\n",
       "    </tr>\n",
       "    <tr>\n",
       "      <th>1</th>\n",
       "      <td>300</td>\n",
       "      <td>500</td>\n",
       "    </tr>\n",
       "    <tr>\n",
       "      <th>2</th>\n",
       "      <td>600</td>\n",
       "      <td>800</td>\n",
       "    </tr>\n",
       "  </tbody>\n",
       "</table>\n",
       "</div>"
      ],
      "text/plain": [
       "   col one  col two\n",
       "0      200      400\n",
       "1      300      500\n",
       "2      600      800"
      ]
     },
     "execution_count": 15,
     "metadata": {},
     "output_type": "execute_result"
    }
   ],
   "source": [
    "df"
   ]
  },
  {
   "cell_type": "code",
   "execution_count": 16,
   "id": "8ac43340",
   "metadata": {},
   "outputs": [
    {
     "data": {
      "text/html": [
       "<div>\n",
       "<style scoped>\n",
       "    .dataframe tbody tr th:only-of-type {\n",
       "        vertical-align: middle;\n",
       "    }\n",
       "\n",
       "    .dataframe tbody tr th {\n",
       "        vertical-align: top;\n",
       "    }\n",
       "\n",
       "    .dataframe thead th {\n",
       "        text-align: right;\n",
       "    }\n",
       "</style>\n",
       "<table border=\"1\" class=\"dataframe\">\n",
       "  <thead>\n",
       "    <tr style=\"text-align: right;\">\n",
       "      <th></th>\n",
       "      <th>country</th>\n",
       "      <th>beer_servings</th>\n",
       "      <th>spirit_servings</th>\n",
       "      <th>wine_servings</th>\n",
       "      <th>total_litres_of_pure_alcohol</th>\n",
       "      <th>continent</th>\n",
       "    </tr>\n",
       "  </thead>\n",
       "  <tbody>\n",
       "    <tr>\n",
       "      <th>0</th>\n",
       "      <td>Afghanistan</td>\n",
       "      <td>0</td>\n",
       "      <td>0</td>\n",
       "      <td>0</td>\n",
       "      <td>0.0</td>\n",
       "      <td>Asia</td>\n",
       "    </tr>\n",
       "    <tr>\n",
       "      <th>1</th>\n",
       "      <td>Albania</td>\n",
       "      <td>89</td>\n",
       "      <td>132</td>\n",
       "      <td>54</td>\n",
       "      <td>4.9</td>\n",
       "      <td>Europe</td>\n",
       "    </tr>\n",
       "    <tr>\n",
       "      <th>2</th>\n",
       "      <td>Algeria</td>\n",
       "      <td>25</td>\n",
       "      <td>0</td>\n",
       "      <td>14</td>\n",
       "      <td>0.7</td>\n",
       "      <td>Africa</td>\n",
       "    </tr>\n",
       "    <tr>\n",
       "      <th>3</th>\n",
       "      <td>Andorra</td>\n",
       "      <td>245</td>\n",
       "      <td>138</td>\n",
       "      <td>312</td>\n",
       "      <td>12.4</td>\n",
       "      <td>Europe</td>\n",
       "    </tr>\n",
       "    <tr>\n",
       "      <th>4</th>\n",
       "      <td>Angola</td>\n",
       "      <td>217</td>\n",
       "      <td>57</td>\n",
       "      <td>45</td>\n",
       "      <td>5.9</td>\n",
       "      <td>Africa</td>\n",
       "    </tr>\n",
       "  </tbody>\n",
       "</table>\n",
       "</div>"
      ],
      "text/plain": [
       "       country  beer_servings  spirit_servings  wine_servings  \\\n",
       "0  Afghanistan              0                0              0   \n",
       "1      Albania             89              132             54   \n",
       "2      Algeria             25                0             14   \n",
       "3      Andorra            245              138            312   \n",
       "4       Angola            217               57             45   \n",
       "\n",
       "   total_litres_of_pure_alcohol continent  \n",
       "0                           0.0      Asia  \n",
       "1                           4.9    Europe  \n",
       "2                           0.7    Africa  \n",
       "3                          12.4    Europe  \n",
       "4                           5.9    Africa  "
      ]
     },
     "execution_count": 16,
     "metadata": {},
     "output_type": "execute_result"
    }
   ],
   "source": [
    "drinks.head()"
   ]
  },
  {
   "cell_type": "code",
   "execution_count": 17,
   "id": "28a1094a",
   "metadata": {},
   "outputs": [
    {
     "data": {
      "text/plain": [
       "(193, 6)"
      ]
     },
     "execution_count": 17,
     "metadata": {},
     "output_type": "execute_result"
    }
   ],
   "source": [
    "drinks.shape"
   ]
  },
  {
   "cell_type": "code",
   "execution_count": 18,
   "id": "c9d9899b",
   "metadata": {},
   "outputs": [
    {
     "data": {
      "text/html": [
       "<div>\n",
       "<style scoped>\n",
       "    .dataframe tbody tr th:only-of-type {\n",
       "        vertical-align: middle;\n",
       "    }\n",
       "\n",
       "    .dataframe tbody tr th {\n",
       "        vertical-align: top;\n",
       "    }\n",
       "\n",
       "    .dataframe thead th {\n",
       "        text-align: right;\n",
       "    }\n",
       "</style>\n",
       "<table border=\"1\" class=\"dataframe\">\n",
       "  <thead>\n",
       "    <tr style=\"text-align: right;\">\n",
       "      <th></th>\n",
       "      <th>country</th>\n",
       "      <th>beer_servings</th>\n",
       "      <th>spirit_servings</th>\n",
       "      <th>wine_servings</th>\n",
       "      <th>total_litres_of_pure_alcohol</th>\n",
       "      <th>continent</th>\n",
       "    </tr>\n",
       "  </thead>\n",
       "  <tbody>\n",
       "    <tr>\n",
       "      <th>0</th>\n",
       "      <td>Zimbabwe</td>\n",
       "      <td>64</td>\n",
       "      <td>18</td>\n",
       "      <td>4</td>\n",
       "      <td>4.7</td>\n",
       "      <td>Africa</td>\n",
       "    </tr>\n",
       "    <tr>\n",
       "      <th>1</th>\n",
       "      <td>Zambia</td>\n",
       "      <td>32</td>\n",
       "      <td>19</td>\n",
       "      <td>4</td>\n",
       "      <td>2.5</td>\n",
       "      <td>Africa</td>\n",
       "    </tr>\n",
       "    <tr>\n",
       "      <th>2</th>\n",
       "      <td>Yemen</td>\n",
       "      <td>6</td>\n",
       "      <td>0</td>\n",
       "      <td>0</td>\n",
       "      <td>0.1</td>\n",
       "      <td>Asia</td>\n",
       "    </tr>\n",
       "    <tr>\n",
       "      <th>3</th>\n",
       "      <td>Vietnam</td>\n",
       "      <td>111</td>\n",
       "      <td>2</td>\n",
       "      <td>1</td>\n",
       "      <td>2.0</td>\n",
       "      <td>Asia</td>\n",
       "    </tr>\n",
       "    <tr>\n",
       "      <th>4</th>\n",
       "      <td>Venezuela</td>\n",
       "      <td>333</td>\n",
       "      <td>100</td>\n",
       "      <td>3</td>\n",
       "      <td>7.7</td>\n",
       "      <td>South America</td>\n",
       "    </tr>\n",
       "  </tbody>\n",
       "</table>\n",
       "</div>"
      ],
      "text/plain": [
       "     country  beer_servings  spirit_servings  wine_servings  \\\n",
       "0   Zimbabwe             64               18              4   \n",
       "1     Zambia             32               19              4   \n",
       "2      Yemen              6                0              0   \n",
       "3    Vietnam            111                2              1   \n",
       "4  Venezuela            333              100              3   \n",
       "\n",
       "   total_litres_of_pure_alcohol      continent  \n",
       "0                           4.7         Africa  \n",
       "1                           2.5         Africa  \n",
       "2                           0.1           Asia  \n",
       "3                           2.0           Asia  \n",
       "4                           7.7  South America  "
      ]
     },
     "execution_count": 18,
     "metadata": {},
     "output_type": "execute_result"
    }
   ],
   "source": [
    "# reverse rows\n",
    "\n",
    "drinks.loc[::-1,].reset_index(drop=True).head()"
   ]
  },
  {
   "cell_type": "code",
   "execution_count": 19,
   "id": "5bb4550b",
   "metadata": {},
   "outputs": [
    {
     "data": {
      "text/html": [
       "<div>\n",
       "<style scoped>\n",
       "    .dataframe tbody tr th:only-of-type {\n",
       "        vertical-align: middle;\n",
       "    }\n",
       "\n",
       "    .dataframe tbody tr th {\n",
       "        vertical-align: top;\n",
       "    }\n",
       "\n",
       "    .dataframe thead th {\n",
       "        text-align: right;\n",
       "    }\n",
       "</style>\n",
       "<table border=\"1\" class=\"dataframe\">\n",
       "  <thead>\n",
       "    <tr style=\"text-align: right;\">\n",
       "      <th></th>\n",
       "      <th>continent</th>\n",
       "      <th>total_litres_of_pure_alcohol</th>\n",
       "      <th>wine_servings</th>\n",
       "      <th>spirit_servings</th>\n",
       "      <th>beer_servings</th>\n",
       "      <th>country</th>\n",
       "    </tr>\n",
       "  </thead>\n",
       "  <tbody>\n",
       "    <tr>\n",
       "      <th>0</th>\n",
       "      <td>Asia</td>\n",
       "      <td>0.0</td>\n",
       "      <td>0</td>\n",
       "      <td>0</td>\n",
       "      <td>0</td>\n",
       "      <td>Afghanistan</td>\n",
       "    </tr>\n",
       "    <tr>\n",
       "      <th>1</th>\n",
       "      <td>Europe</td>\n",
       "      <td>4.9</td>\n",
       "      <td>54</td>\n",
       "      <td>132</td>\n",
       "      <td>89</td>\n",
       "      <td>Albania</td>\n",
       "    </tr>\n",
       "    <tr>\n",
       "      <th>2</th>\n",
       "      <td>Africa</td>\n",
       "      <td>0.7</td>\n",
       "      <td>14</td>\n",
       "      <td>0</td>\n",
       "      <td>25</td>\n",
       "      <td>Algeria</td>\n",
       "    </tr>\n",
       "    <tr>\n",
       "      <th>3</th>\n",
       "      <td>Europe</td>\n",
       "      <td>12.4</td>\n",
       "      <td>312</td>\n",
       "      <td>138</td>\n",
       "      <td>245</td>\n",
       "      <td>Andorra</td>\n",
       "    </tr>\n",
       "    <tr>\n",
       "      <th>4</th>\n",
       "      <td>Africa</td>\n",
       "      <td>5.9</td>\n",
       "      <td>45</td>\n",
       "      <td>57</td>\n",
       "      <td>217</td>\n",
       "      <td>Angola</td>\n",
       "    </tr>\n",
       "  </tbody>\n",
       "</table>\n",
       "</div>"
      ],
      "text/plain": [
       "  continent  total_litres_of_pure_alcohol  wine_servings  spirit_servings  \\\n",
       "0      Asia                           0.0              0                0   \n",
       "1    Europe                           4.9             54              132   \n",
       "2    Africa                           0.7             14                0   \n",
       "3    Europe                          12.4            312              138   \n",
       "4    Africa                           5.9             45               57   \n",
       "\n",
       "   beer_servings      country  \n",
       "0              0  Afghanistan  \n",
       "1             89      Albania  \n",
       "2             25      Algeria  \n",
       "3            245      Andorra  \n",
       "4            217       Angola  "
      ]
     },
     "execution_count": 19,
     "metadata": {},
     "output_type": "execute_result"
    }
   ],
   "source": [
    "# reverse columns\n",
    "\n",
    "drinks.loc[:, ::-1].head()"
   ]
  },
  {
   "cell_type": "code",
   "execution_count": 20,
   "id": "a149fae1",
   "metadata": {},
   "outputs": [],
   "source": [
    "# num_cols_1=drinks.select_dtypes(exclude='object')\n",
    "# num_cols_1.head()"
   ]
  },
  {
   "cell_type": "code",
   "execution_count": 21,
   "id": "5b724f20",
   "metadata": {},
   "outputs": [
    {
     "data": {
      "text/html": [
       "<div>\n",
       "<style scoped>\n",
       "    .dataframe tbody tr th:only-of-type {\n",
       "        vertical-align: middle;\n",
       "    }\n",
       "\n",
       "    .dataframe tbody tr th {\n",
       "        vertical-align: top;\n",
       "    }\n",
       "\n",
       "    .dataframe thead th {\n",
       "        text-align: right;\n",
       "    }\n",
       "</style>\n",
       "<table border=\"1\" class=\"dataframe\">\n",
       "  <thead>\n",
       "    <tr style=\"text-align: right;\">\n",
       "      <th></th>\n",
       "      <th>country</th>\n",
       "      <th>continent</th>\n",
       "    </tr>\n",
       "  </thead>\n",
       "  <tbody>\n",
       "    <tr>\n",
       "      <th>0</th>\n",
       "      <td>Afghanistan</td>\n",
       "      <td>Asia</td>\n",
       "    </tr>\n",
       "    <tr>\n",
       "      <th>1</th>\n",
       "      <td>Albania</td>\n",
       "      <td>Europe</td>\n",
       "    </tr>\n",
       "    <tr>\n",
       "      <th>2</th>\n",
       "      <td>Algeria</td>\n",
       "      <td>Africa</td>\n",
       "    </tr>\n",
       "    <tr>\n",
       "      <th>3</th>\n",
       "      <td>Andorra</td>\n",
       "      <td>Europe</td>\n",
       "    </tr>\n",
       "    <tr>\n",
       "      <th>4</th>\n",
       "      <td>Angola</td>\n",
       "      <td>Africa</td>\n",
       "    </tr>\n",
       "  </tbody>\n",
       "</table>\n",
       "</div>"
      ],
      "text/plain": [
       "       country continent\n",
       "0  Afghanistan      Asia\n",
       "1      Albania    Europe\n",
       "2      Algeria    Africa\n",
       "3      Andorra    Europe\n",
       "4       Angola    Africa"
      ]
     },
     "execution_count": 21,
     "metadata": {},
     "output_type": "execute_result"
    }
   ],
   "source": [
    "cat_cols=[col for col in drinks.columns if drinks[col].dtypes=='O']\n",
    "drinks[cat_cols].head()"
   ]
  },
  {
   "cell_type": "code",
   "execution_count": 22,
   "id": "d23b925b",
   "metadata": {},
   "outputs": [],
   "source": [
    "# num_cols=[col for col in drinks.columns if drinks[col].dtypes !='O']\n",
    "# drinks[num_cols].head()"
   ]
  },
  {
   "cell_type": "code",
   "execution_count": 23,
   "id": "1adf8236",
   "metadata": {},
   "outputs": [
    {
     "data": {
      "text/html": [
       "<div>\n",
       "<style scoped>\n",
       "    .dataframe tbody tr th:only-of-type {\n",
       "        vertical-align: middle;\n",
       "    }\n",
       "\n",
       "    .dataframe tbody tr th {\n",
       "        vertical-align: top;\n",
       "    }\n",
       "\n",
       "    .dataframe thead th {\n",
       "        text-align: right;\n",
       "    }\n",
       "</style>\n",
       "<table border=\"1\" class=\"dataframe\">\n",
       "  <thead>\n",
       "    <tr style=\"text-align: right;\">\n",
       "      <th></th>\n",
       "      <th>beer_servings</th>\n",
       "      <th>spirit_servings</th>\n",
       "      <th>wine_servings</th>\n",
       "    </tr>\n",
       "  </thead>\n",
       "  <tbody>\n",
       "    <tr>\n",
       "      <th>0</th>\n",
       "      <td>0</td>\n",
       "      <td>0</td>\n",
       "      <td>0</td>\n",
       "    </tr>\n",
       "    <tr>\n",
       "      <th>1</th>\n",
       "      <td>89</td>\n",
       "      <td>132</td>\n",
       "      <td>54</td>\n",
       "    </tr>\n",
       "    <tr>\n",
       "      <th>2</th>\n",
       "      <td>25</td>\n",
       "      <td>0</td>\n",
       "      <td>14</td>\n",
       "    </tr>\n",
       "    <tr>\n",
       "      <th>3</th>\n",
       "      <td>245</td>\n",
       "      <td>138</td>\n",
       "      <td>312</td>\n",
       "    </tr>\n",
       "    <tr>\n",
       "      <th>4</th>\n",
       "      <td>217</td>\n",
       "      <td>57</td>\n",
       "      <td>45</td>\n",
       "    </tr>\n",
       "  </tbody>\n",
       "</table>\n",
       "</div>"
      ],
      "text/plain": [
       "   beer_servings  spirit_servings  wine_servings\n",
       "0              0                0              0\n",
       "1             89              132             54\n",
       "2             25                0             14\n",
       "3            245              138            312\n",
       "4            217               57             45"
      ]
     },
     "execution_count": 23,
     "metadata": {},
     "output_type": "execute_result"
    }
   ],
   "source": [
    "num_cols_1=drinks.select_dtypes(include='int64')\n",
    "num_cols_1.head()"
   ]
  },
  {
   "cell_type": "code",
   "execution_count": 24,
   "id": "4a43d449",
   "metadata": {},
   "outputs": [],
   "source": [
    "# drinks.info()"
   ]
  },
  {
   "cell_type": "code",
   "execution_count": 25,
   "id": "53bad7ca",
   "metadata": {},
   "outputs": [
    {
     "data": {
      "text/html": [
       "<div>\n",
       "<style scoped>\n",
       "    .dataframe tbody tr th:only-of-type {\n",
       "        vertical-align: middle;\n",
       "    }\n",
       "\n",
       "    .dataframe tbody tr th {\n",
       "        vertical-align: top;\n",
       "    }\n",
       "\n",
       "    .dataframe thead th {\n",
       "        text-align: right;\n",
       "    }\n",
       "</style>\n",
       "<table border=\"1\" class=\"dataframe\">\n",
       "  <thead>\n",
       "    <tr style=\"text-align: right;\">\n",
       "      <th></th>\n",
       "      <th>col one</th>\n",
       "      <th>col two</th>\n",
       "    </tr>\n",
       "  </thead>\n",
       "  <tbody>\n",
       "    <tr>\n",
       "      <th>0</th>\n",
       "      <td>200</td>\n",
       "      <td>400</td>\n",
       "    </tr>\n",
       "    <tr>\n",
       "      <th>1</th>\n",
       "      <td>300</td>\n",
       "      <td>500</td>\n",
       "    </tr>\n",
       "    <tr>\n",
       "      <th>2</th>\n",
       "      <td>600</td>\n",
       "      <td>800</td>\n",
       "    </tr>\n",
       "  </tbody>\n",
       "</table>\n",
       "</div>"
      ],
      "text/plain": [
       "   col one  col two\n",
       "0      200      400\n",
       "1      300      500\n",
       "2      600      800"
      ]
     },
     "execution_count": 25,
     "metadata": {},
     "output_type": "execute_result"
    }
   ],
   "source": [
    "df"
   ]
  },
  {
   "cell_type": "code",
   "execution_count": 26,
   "id": "7579cb62",
   "metadata": {},
   "outputs": [
    {
     "data": {
      "text/html": [
       "<div>\n",
       "<style scoped>\n",
       "    .dataframe tbody tr th:only-of-type {\n",
       "        vertical-align: middle;\n",
       "    }\n",
       "\n",
       "    .dataframe tbody tr th {\n",
       "        vertical-align: top;\n",
       "    }\n",
       "\n",
       "    .dataframe thead th {\n",
       "        text-align: right;\n",
       "    }\n",
       "</style>\n",
       "<table border=\"1\" class=\"dataframe\">\n",
       "  <thead>\n",
       "    <tr style=\"text-align: right;\">\n",
       "      <th></th>\n",
       "      <th>f_col</th>\n",
       "      <th>s_col</th>\n",
       "    </tr>\n",
       "  </thead>\n",
       "  <tbody>\n",
       "    <tr>\n",
       "      <th>0</th>\n",
       "      <td>200</td>\n",
       "      <td>400</td>\n",
       "    </tr>\n",
       "    <tr>\n",
       "      <th>1</th>\n",
       "      <td>300</td>\n",
       "      <td>500</td>\n",
       "    </tr>\n",
       "    <tr>\n",
       "      <th>2</th>\n",
       "      <td>600</td>\n",
       "      <td>800</td>\n",
       "    </tr>\n",
       "  </tbody>\n",
       "</table>\n",
       "</div>"
      ],
      "text/plain": [
       "   f_col  s_col\n",
       "0    200    400\n",
       "1    300    500\n",
       "2    600    800"
      ]
     },
     "execution_count": 26,
     "metadata": {},
     "output_type": "execute_result"
    }
   ],
   "source": [
    "df=df.rename({'col one':'f_col', 'col two':'s_col'}, axis=1)\n",
    "df"
   ]
  },
  {
   "cell_type": "code",
   "execution_count": 27,
   "id": "28cff006",
   "metadata": {},
   "outputs": [
    {
     "data": {
      "text/html": [
       "<div>\n",
       "<style scoped>\n",
       "    .dataframe tbody tr th:only-of-type {\n",
       "        vertical-align: middle;\n",
       "    }\n",
       "\n",
       "    .dataframe tbody tr th {\n",
       "        vertical-align: top;\n",
       "    }\n",
       "\n",
       "    .dataframe thead th {\n",
       "        text-align: right;\n",
       "    }\n",
       "</style>\n",
       "<table border=\"1\" class=\"dataframe\">\n",
       "  <thead>\n",
       "    <tr style=\"text-align: right;\">\n",
       "      <th></th>\n",
       "      <th>col_one</th>\n",
       "      <th>col_two</th>\n",
       "    </tr>\n",
       "  </thead>\n",
       "  <tbody>\n",
       "    <tr>\n",
       "      <th>0</th>\n",
       "      <td>200</td>\n",
       "      <td>400</td>\n",
       "    </tr>\n",
       "    <tr>\n",
       "      <th>1</th>\n",
       "      <td>300</td>\n",
       "      <td>500</td>\n",
       "    </tr>\n",
       "    <tr>\n",
       "      <th>2</th>\n",
       "      <td>600</td>\n",
       "      <td>800</td>\n",
       "    </tr>\n",
       "  </tbody>\n",
       "</table>\n",
       "</div>"
      ],
      "text/plain": [
       "   col_one  col_two\n",
       "0      200      400\n",
       "1      300      500\n",
       "2      600      800"
      ]
     },
     "execution_count": 27,
     "metadata": {},
     "output_type": "execute_result"
    }
   ],
   "source": [
    "df=df.rename(columns={'f_col':'col_one', 's_col':'col_two'})\n",
    "df"
   ]
  },
  {
   "cell_type": "code",
   "execution_count": 28,
   "id": "9262583f",
   "metadata": {},
   "outputs": [
    {
     "data": {
      "text/html": [
       "<div>\n",
       "<style scoped>\n",
       "    .dataframe tbody tr th:only-of-type {\n",
       "        vertical-align: middle;\n",
       "    }\n",
       "\n",
       "    .dataframe tbody tr th {\n",
       "        vertical-align: top;\n",
       "    }\n",
       "\n",
       "    .dataframe thead th {\n",
       "        text-align: right;\n",
       "    }\n",
       "</style>\n",
       "<table border=\"1\" class=\"dataframe\">\n",
       "  <thead>\n",
       "    <tr style=\"text-align: right;\">\n",
       "      <th></th>\n",
       "      <th>col_one</th>\n",
       "      <th>col_two</th>\n",
       "      <th>col_three</th>\n",
       "    </tr>\n",
       "  </thead>\n",
       "  <tbody>\n",
       "    <tr>\n",
       "      <th>0</th>\n",
       "      <td>1.1</td>\n",
       "      <td>4.4</td>\n",
       "      <td>6.6</td>\n",
       "    </tr>\n",
       "    <tr>\n",
       "      <th>1</th>\n",
       "      <td>2.2</td>\n",
       "      <td>5.5</td>\n",
       "      <td>7.7</td>\n",
       "    </tr>\n",
       "    <tr>\n",
       "      <th>2</th>\n",
       "      <td>3.3</td>\n",
       "      <td>5.5</td>\n",
       "      <td>8.8</td>\n",
       "    </tr>\n",
       "  </tbody>\n",
       "</table>\n",
       "</div>"
      ],
      "text/plain": [
       "  col_one col_two col_three\n",
       "0     1.1     4.4       6.6\n",
       "1     2.2     5.5       7.7\n",
       "2     3.3     5.5       8.8"
      ]
     },
     "execution_count": 28,
     "metadata": {},
     "output_type": "execute_result"
    }
   ],
   "source": [
    "df_2=pd.DataFrame({'col_one':['1.1', '2.2', '3.3'],\n",
    "                  'col_two':['4.4', '5.5', '5.5'],\n",
    "                  'col_three':['6.6', '7.7', '8.8']})\n",
    "df_2"
   ]
  },
  {
   "cell_type": "code",
   "execution_count": 29,
   "id": "be389cab",
   "metadata": {},
   "outputs": [
    {
     "data": {
      "text/plain": [
       "array(['1.1', '2.2', '3.3'], dtype=object)"
      ]
     },
     "execution_count": 29,
     "metadata": {},
     "output_type": "execute_result"
    }
   ],
   "source": [
    "df_2[\"col_one\"].values"
   ]
  },
  {
   "cell_type": "code",
   "execution_count": 30,
   "id": "bbddf184",
   "metadata": {},
   "outputs": [
    {
     "data": {
      "text/plain": [
       "array(['4.4', '5.5', '5.5'], dtype=object)"
      ]
     },
     "execution_count": 30,
     "metadata": {},
     "output_type": "execute_result"
    }
   ],
   "source": [
    "df_2[\"col_two\"].values"
   ]
  },
  {
   "cell_type": "code",
   "execution_count": 31,
   "id": "df3ea072",
   "metadata": {},
   "outputs": [
    {
     "data": {
      "text/plain": [
       "array(['6.6', '7.7', '8.8'], dtype=object)"
      ]
     },
     "execution_count": 31,
     "metadata": {},
     "output_type": "execute_result"
    }
   ],
   "source": [
    "df_2[\"col_three\"].values"
   ]
  },
  {
   "cell_type": "code",
   "execution_count": 32,
   "id": "00fd8fe5",
   "metadata": {},
   "outputs": [],
   "source": [
    "df_2=df_2.astype({'col_one':'float', 'col_two':'float', 'col_three':'float'})"
   ]
  },
  {
   "cell_type": "code",
   "execution_count": 33,
   "id": "8626cd96",
   "metadata": {},
   "outputs": [
    {
     "data": {
      "text/plain": [
       "col_one      float64\n",
       "col_two      float64\n",
       "col_three    float64\n",
       "dtype: object"
      ]
     },
     "execution_count": 33,
     "metadata": {},
     "output_type": "execute_result"
    }
   ],
   "source": [
    "df_2.dtypes"
   ]
  },
  {
   "cell_type": "code",
   "execution_count": 34,
   "id": "1bbd6288",
   "metadata": {},
   "outputs": [],
   "source": [
    "# pd.to_numeric(df_2['col_one', 'col_two', 'col_three'], errors='coerce')"
   ]
  },
  {
   "cell_type": "markdown",
   "id": "8e465fe0",
   "metadata": {},
   "source": [
    "## Show file size in memory"
   ]
  },
  {
   "cell_type": "code",
   "execution_count": 35,
   "id": "434ae175",
   "metadata": {},
   "outputs": [
    {
     "data": {
      "text/html": [
       "<div>\n",
       "<style scoped>\n",
       "    .dataframe tbody tr th:only-of-type {\n",
       "        vertical-align: middle;\n",
       "    }\n",
       "\n",
       "    .dataframe tbody tr th {\n",
       "        vertical-align: top;\n",
       "    }\n",
       "\n",
       "    .dataframe thead th {\n",
       "        text-align: right;\n",
       "    }\n",
       "</style>\n",
       "<table border=\"1\" class=\"dataframe\">\n",
       "  <thead>\n",
       "    <tr style=\"text-align: right;\">\n",
       "      <th></th>\n",
       "      <th>country</th>\n",
       "      <th>beer_servings</th>\n",
       "      <th>spirit_servings</th>\n",
       "      <th>wine_servings</th>\n",
       "      <th>total_litres_of_pure_alcohol</th>\n",
       "      <th>continent</th>\n",
       "    </tr>\n",
       "  </thead>\n",
       "  <tbody>\n",
       "    <tr>\n",
       "      <th>0</th>\n",
       "      <td>Afghanistan</td>\n",
       "      <td>0</td>\n",
       "      <td>0</td>\n",
       "      <td>0</td>\n",
       "      <td>0.0</td>\n",
       "      <td>Asia</td>\n",
       "    </tr>\n",
       "    <tr>\n",
       "      <th>1</th>\n",
       "      <td>Albania</td>\n",
       "      <td>89</td>\n",
       "      <td>132</td>\n",
       "      <td>54</td>\n",
       "      <td>4.9</td>\n",
       "      <td>Europe</td>\n",
       "    </tr>\n",
       "    <tr>\n",
       "      <th>2</th>\n",
       "      <td>Algeria</td>\n",
       "      <td>25</td>\n",
       "      <td>0</td>\n",
       "      <td>14</td>\n",
       "      <td>0.7</td>\n",
       "      <td>Africa</td>\n",
       "    </tr>\n",
       "    <tr>\n",
       "      <th>3</th>\n",
       "      <td>Andorra</td>\n",
       "      <td>245</td>\n",
       "      <td>138</td>\n",
       "      <td>312</td>\n",
       "      <td>12.4</td>\n",
       "      <td>Europe</td>\n",
       "    </tr>\n",
       "    <tr>\n",
       "      <th>4</th>\n",
       "      <td>Angola</td>\n",
       "      <td>217</td>\n",
       "      <td>57</td>\n",
       "      <td>45</td>\n",
       "      <td>5.9</td>\n",
       "      <td>Africa</td>\n",
       "    </tr>\n",
       "  </tbody>\n",
       "</table>\n",
       "</div>"
      ],
      "text/plain": [
       "       country  beer_servings  spirit_servings  wine_servings  \\\n",
       "0  Afghanistan              0                0              0   \n",
       "1      Albania             89              132             54   \n",
       "2      Algeria             25                0             14   \n",
       "3      Andorra            245              138            312   \n",
       "4       Angola            217               57             45   \n",
       "\n",
       "   total_litres_of_pure_alcohol continent  \n",
       "0                           0.0      Asia  \n",
       "1                           4.9    Europe  \n",
       "2                           0.7    Africa  \n",
       "3                          12.4    Europe  \n",
       "4                           5.9    Africa  "
      ]
     },
     "execution_count": 35,
     "metadata": {},
     "output_type": "execute_result"
    }
   ],
   "source": [
    "drinks.head()"
   ]
  },
  {
   "cell_type": "code",
   "execution_count": 36,
   "id": "6de1386e",
   "metadata": {},
   "outputs": [
    {
     "name": "stdout",
     "output_type": "stream",
     "text": [
      "<class 'pandas.core.frame.DataFrame'>\n",
      "RangeIndex: 193 entries, 0 to 192\n",
      "Data columns (total 6 columns):\n",
      " #   Column                        Non-Null Count  Dtype  \n",
      "---  ------                        --------------  -----  \n",
      " 0   country                       193 non-null    object \n",
      " 1   beer_servings                 193 non-null    int64  \n",
      " 2   spirit_servings               193 non-null    int64  \n",
      " 3   wine_servings                 193 non-null    int64  \n",
      " 4   total_litres_of_pure_alcohol  193 non-null    float64\n",
      " 5   continent                     193 non-null    object \n",
      "dtypes: float64(1), int64(3), object(2)\n",
      "memory usage: 30.5 KB\n"
     ]
    }
   ],
   "source": [
    "drinks.info(memory_usage='deep')"
   ]
  },
  {
   "cell_type": "code",
   "execution_count": 37,
   "id": "a89159de",
   "metadata": {},
   "outputs": [
    {
     "data": {
      "text/html": [
       "<div>\n",
       "<style scoped>\n",
       "    .dataframe tbody tr th:only-of-type {\n",
       "        vertical-align: middle;\n",
       "    }\n",
       "\n",
       "    .dataframe tbody tr th {\n",
       "        vertical-align: top;\n",
       "    }\n",
       "\n",
       "    .dataframe thead th {\n",
       "        text-align: right;\n",
       "    }\n",
       "</style>\n",
       "<table border=\"1\" class=\"dataframe\">\n",
       "  <thead>\n",
       "    <tr style=\"text-align: right;\">\n",
       "      <th></th>\n",
       "      <th>beer_servings</th>\n",
       "      <th>continent</th>\n",
       "    </tr>\n",
       "  </thead>\n",
       "  <tbody>\n",
       "    <tr>\n",
       "      <th>0</th>\n",
       "      <td>0</td>\n",
       "      <td>Asia</td>\n",
       "    </tr>\n",
       "    <tr>\n",
       "      <th>1</th>\n",
       "      <td>89</td>\n",
       "      <td>Europe</td>\n",
       "    </tr>\n",
       "    <tr>\n",
       "      <th>2</th>\n",
       "      <td>25</td>\n",
       "      <td>Africa</td>\n",
       "    </tr>\n",
       "    <tr>\n",
       "      <th>3</th>\n",
       "      <td>245</td>\n",
       "      <td>Europe</td>\n",
       "    </tr>\n",
       "    <tr>\n",
       "      <th>4</th>\n",
       "      <td>217</td>\n",
       "      <td>Africa</td>\n",
       "    </tr>\n",
       "  </tbody>\n",
       "</table>\n",
       "</div>"
      ],
      "text/plain": [
       "   beer_servings continent\n",
       "0              0      Asia\n",
       "1             89    Europe\n",
       "2             25    Africa\n",
       "3            245    Europe\n",
       "4            217    Africa"
      ]
     },
     "execution_count": 37,
     "metadata": {},
     "output_type": "execute_result"
    }
   ],
   "source": [
    "cols=['beer_servings', 'continent']\n",
    "small_drinks=pd.read_csv('http://bit.ly/drinksbycountry', usecols=cols)\n",
    "small_drinks.head()"
   ]
  },
  {
   "cell_type": "code",
   "execution_count": 38,
   "id": "588575a9",
   "metadata": {},
   "outputs": [
    {
     "name": "stdout",
     "output_type": "stream",
     "text": [
      "<class 'pandas.core.frame.DataFrame'>\n",
      "RangeIndex: 193 entries, 0 to 192\n",
      "Data columns (total 2 columns):\n",
      " #   Column         Non-Null Count  Dtype \n",
      "---  ------         --------------  ----- \n",
      " 0   beer_servings  193 non-null    int64 \n",
      " 1   continent      193 non-null    object\n",
      "dtypes: int64(1), object(1)\n",
      "memory usage: 13.7 KB\n"
     ]
    }
   ],
   "source": [
    "small_drinks.info(memory_usage='deep')"
   ]
  },
  {
   "cell_type": "code",
   "execution_count": 39,
   "id": "0e7cdcd0",
   "metadata": {},
   "outputs": [
    {
     "data": {
      "text/html": [
       "<div>\n",
       "<style scoped>\n",
       "    .dataframe tbody tr th:only-of-type {\n",
       "        vertical-align: middle;\n",
       "    }\n",
       "\n",
       "    .dataframe tbody tr th {\n",
       "        vertical-align: top;\n",
       "    }\n",
       "\n",
       "    .dataframe thead th {\n",
       "        text-align: right;\n",
       "    }\n",
       "</style>\n",
       "<table border=\"1\" class=\"dataframe\">\n",
       "  <thead>\n",
       "    <tr style=\"text-align: right;\">\n",
       "      <th></th>\n",
       "      <th>beer_servings</th>\n",
       "      <th>continent</th>\n",
       "    </tr>\n",
       "  </thead>\n",
       "  <tbody>\n",
       "    <tr>\n",
       "      <th>0</th>\n",
       "      <td>0</td>\n",
       "      <td>Asia</td>\n",
       "    </tr>\n",
       "    <tr>\n",
       "      <th>1</th>\n",
       "      <td>89</td>\n",
       "      <td>Europe</td>\n",
       "    </tr>\n",
       "    <tr>\n",
       "      <th>2</th>\n",
       "      <td>25</td>\n",
       "      <td>Africa</td>\n",
       "    </tr>\n",
       "    <tr>\n",
       "      <th>3</th>\n",
       "      <td>245</td>\n",
       "      <td>Europe</td>\n",
       "    </tr>\n",
       "    <tr>\n",
       "      <th>4</th>\n",
       "      <td>217</td>\n",
       "      <td>Africa</td>\n",
       "    </tr>\n",
       "  </tbody>\n",
       "</table>\n",
       "</div>"
      ],
      "text/plain": [
       "   beer_servings continent\n",
       "0              0      Asia\n",
       "1             89    Europe\n",
       "2             25    Africa\n",
       "3            245    Europe\n",
       "4            217    Africa"
      ]
     },
     "execution_count": 39,
     "metadata": {},
     "output_type": "execute_result"
    }
   ],
   "source": [
    "dtypes={'continent':'category'}\n",
    "small_drinks=pd.read_csv(\"http://bit.ly/drinksbycountry\", \n",
    "                         usecols=cols, dtype=dtypes)\n",
    "small_drinks.head()"
   ]
  },
  {
   "cell_type": "code",
   "execution_count": 40,
   "id": "df82c63d",
   "metadata": {},
   "outputs": [
    {
     "name": "stdout",
     "output_type": "stream",
     "text": [
      "<class 'pandas.core.frame.DataFrame'>\n",
      "RangeIndex: 193 entries, 0 to 192\n",
      "Data columns (total 2 columns):\n",
      " #   Column         Non-Null Count  Dtype   \n",
      "---  ------         --------------  -----   \n",
      " 0   beer_servings  193 non-null    int64   \n",
      " 1   continent      193 non-null    category\n",
      "dtypes: category(1), int64(1)\n",
      "memory usage: 2.4 KB\n"
     ]
    }
   ],
   "source": [
    "small_drinks.info(memory_usage='deep')"
   ]
  },
  {
   "cell_type": "markdown",
   "id": "4cab0f2f",
   "metadata": {},
   "source": [
    "## Filter DataFrame by Multiple Categories"
   ]
  },
  {
   "cell_type": "code",
   "execution_count": 41,
   "id": "a8072ab2",
   "metadata": {},
   "outputs": [
    {
     "data": {
      "text/html": [
       "<div>\n",
       "<style scoped>\n",
       "    .dataframe tbody tr th:only-of-type {\n",
       "        vertical-align: middle;\n",
       "    }\n",
       "\n",
       "    .dataframe tbody tr th {\n",
       "        vertical-align: top;\n",
       "    }\n",
       "\n",
       "    .dataframe thead th {\n",
       "        text-align: right;\n",
       "    }\n",
       "</style>\n",
       "<table border=\"1\" class=\"dataframe\">\n",
       "  <thead>\n",
       "    <tr style=\"text-align: right;\">\n",
       "      <th></th>\n",
       "      <th>star_rating</th>\n",
       "      <th>title</th>\n",
       "      <th>content_rating</th>\n",
       "      <th>genre</th>\n",
       "      <th>duration</th>\n",
       "      <th>actors_list</th>\n",
       "    </tr>\n",
       "  </thead>\n",
       "  <tbody>\n",
       "    <tr>\n",
       "      <th>0</th>\n",
       "      <td>9.3</td>\n",
       "      <td>The Shawshank Redemption</td>\n",
       "      <td>R</td>\n",
       "      <td>Crime</td>\n",
       "      <td>142</td>\n",
       "      <td>[u'Tim Robbins', u'Morgan Freeman', u'Bob Gunt...</td>\n",
       "    </tr>\n",
       "    <tr>\n",
       "      <th>1</th>\n",
       "      <td>9.2</td>\n",
       "      <td>The Godfather</td>\n",
       "      <td>R</td>\n",
       "      <td>Crime</td>\n",
       "      <td>175</td>\n",
       "      <td>[u'Marlon Brando', u'Al Pacino', u'James Caan']</td>\n",
       "    </tr>\n",
       "    <tr>\n",
       "      <th>2</th>\n",
       "      <td>9.1</td>\n",
       "      <td>The Godfather: Part II</td>\n",
       "      <td>R</td>\n",
       "      <td>Crime</td>\n",
       "      <td>200</td>\n",
       "      <td>[u'Al Pacino', u'Robert De Niro', u'Robert Duv...</td>\n",
       "    </tr>\n",
       "  </tbody>\n",
       "</table>\n",
       "</div>"
      ],
      "text/plain": [
       "   star_rating                     title content_rating  genre  duration  \\\n",
       "0          9.3  The Shawshank Redemption              R  Crime       142   \n",
       "1          9.2             The Godfather              R  Crime       175   \n",
       "2          9.1    The Godfather: Part II              R  Crime       200   \n",
       "\n",
       "                                         actors_list  \n",
       "0  [u'Tim Robbins', u'Morgan Freeman', u'Bob Gunt...  \n",
       "1    [u'Marlon Brando', u'Al Pacino', u'James Caan']  \n",
       "2  [u'Al Pacino', u'Robert De Niro', u'Robert Duv...  "
      ]
     },
     "execution_count": 41,
     "metadata": {},
     "output_type": "execute_result"
    }
   ],
   "source": [
    "movies.head(3)"
   ]
  },
  {
   "cell_type": "code",
   "execution_count": 42,
   "id": "0a7e741b",
   "metadata": {},
   "outputs": [],
   "source": [
    "# movies[['genre', \n",
    "#         'duration']].groupby('genre', \n",
    "#                              as_index=False).count().sort_values(by='duration', \n",
    "#                                                                ascending=False)"
   ]
  },
  {
   "cell_type": "code",
   "execution_count": 43,
   "id": "bd33cd8f",
   "metadata": {},
   "outputs": [
    {
     "data": {
      "text/plain": [
       "array(['Crime', 'Action', 'Drama', 'Western', 'Adventure', 'Biography',\n",
       "       'Comedy', 'Animation', 'Mystery', 'Horror', 'Film-Noir', 'Sci-Fi',\n",
       "       'History', 'Thriller', 'Family', 'Fantasy'], dtype=object)"
      ]
     },
     "execution_count": 43,
     "metadata": {},
     "output_type": "execute_result"
    }
   ],
   "source": [
    "movies.genre.unique()"
   ]
  },
  {
   "cell_type": "code",
   "execution_count": 44,
   "id": "00914ebe",
   "metadata": {},
   "outputs": [
    {
     "data": {
      "text/html": [
       "<div>\n",
       "<style scoped>\n",
       "    .dataframe tbody tr th:only-of-type {\n",
       "        vertical-align: middle;\n",
       "    }\n",
       "\n",
       "    .dataframe tbody tr th {\n",
       "        vertical-align: top;\n",
       "    }\n",
       "\n",
       "    .dataframe thead th {\n",
       "        text-align: right;\n",
       "    }\n",
       "</style>\n",
       "<table border=\"1\" class=\"dataframe\">\n",
       "  <thead>\n",
       "    <tr style=\"text-align: right;\">\n",
       "      <th></th>\n",
       "      <th>star_rating</th>\n",
       "      <th>title</th>\n",
       "      <th>content_rating</th>\n",
       "      <th>genre</th>\n",
       "      <th>duration</th>\n",
       "      <th>actors_list</th>\n",
       "    </tr>\n",
       "  </thead>\n",
       "  <tbody>\n",
       "    <tr>\n",
       "      <th>3</th>\n",
       "      <td>9.0</td>\n",
       "      <td>The Dark Knight</td>\n",
       "      <td>PG-13</td>\n",
       "      <td>Action</td>\n",
       "      <td>152</td>\n",
       "      <td>[u'Christian Bale', u'Heath Ledger', u'Aaron E...</td>\n",
       "    </tr>\n",
       "    <tr>\n",
       "      <th>5</th>\n",
       "      <td>8.9</td>\n",
       "      <td>12 Angry Men</td>\n",
       "      <td>NOT RATED</td>\n",
       "      <td>Drama</td>\n",
       "      <td>96</td>\n",
       "      <td>[u'Henry Fonda', u'Lee J. Cobb', u'Martin Bals...</td>\n",
       "    </tr>\n",
       "    <tr>\n",
       "      <th>6</th>\n",
       "      <td>8.9</td>\n",
       "      <td>The Good, the Bad and the Ugly</td>\n",
       "      <td>NOT RATED</td>\n",
       "      <td>Western</td>\n",
       "      <td>161</td>\n",
       "      <td>[u'Clint Eastwood', u'Eli Wallach', u'Lee Van ...</td>\n",
       "    </tr>\n",
       "    <tr>\n",
       "      <th>9</th>\n",
       "      <td>8.9</td>\n",
       "      <td>Fight Club</td>\n",
       "      <td>R</td>\n",
       "      <td>Drama</td>\n",
       "      <td>139</td>\n",
       "      <td>[u'Brad Pitt', u'Edward Norton', u'Helena Bonh...</td>\n",
       "    </tr>\n",
       "    <tr>\n",
       "      <th>11</th>\n",
       "      <td>8.8</td>\n",
       "      <td>Inception</td>\n",
       "      <td>PG-13</td>\n",
       "      <td>Action</td>\n",
       "      <td>148</td>\n",
       "      <td>[u'Leonardo DiCaprio', u'Joseph Gordon-Levitt'...</td>\n",
       "    </tr>\n",
       "  </tbody>\n",
       "</table>\n",
       "</div>"
      ],
      "text/plain": [
       "    star_rating                           title content_rating    genre  \\\n",
       "3           9.0                 The Dark Knight          PG-13   Action   \n",
       "5           8.9                    12 Angry Men      NOT RATED    Drama   \n",
       "6           8.9  The Good, the Bad and the Ugly      NOT RATED  Western   \n",
       "9           8.9                      Fight Club              R    Drama   \n",
       "11          8.8                       Inception          PG-13   Action   \n",
       "\n",
       "    duration                                        actors_list  \n",
       "3        152  [u'Christian Bale', u'Heath Ledger', u'Aaron E...  \n",
       "5         96  [u'Henry Fonda', u'Lee J. Cobb', u'Martin Bals...  \n",
       "6        161  [u'Clint Eastwood', u'Eli Wallach', u'Lee Van ...  \n",
       "9        139  [u'Brad Pitt', u'Edward Norton', u'Helena Bonh...  \n",
       "11       148  [u'Leonardo DiCaprio', u'Joseph Gordon-Levitt'...  "
      ]
     },
     "execution_count": 44,
     "metadata": {},
     "output_type": "execute_result"
    }
   ],
   "source": [
    "movies[(movies.genre=='Action')|\n",
    "      (movies.genre=='Drama')|\n",
    "      (movies.genre=='Western')].head()"
   ]
  },
  {
   "cell_type": "code",
   "execution_count": 45,
   "id": "a0a86e8d",
   "metadata": {},
   "outputs": [
    {
     "data": {
      "text/html": [
       "<div>\n",
       "<style scoped>\n",
       "    .dataframe tbody tr th:only-of-type {\n",
       "        vertical-align: middle;\n",
       "    }\n",
       "\n",
       "    .dataframe tbody tr th {\n",
       "        vertical-align: top;\n",
       "    }\n",
       "\n",
       "    .dataframe thead th {\n",
       "        text-align: right;\n",
       "    }\n",
       "</style>\n",
       "<table border=\"1\" class=\"dataframe\">\n",
       "  <thead>\n",
       "    <tr style=\"text-align: right;\">\n",
       "      <th></th>\n",
       "      <th>star_rating</th>\n",
       "      <th>title</th>\n",
       "      <th>content_rating</th>\n",
       "      <th>genre</th>\n",
       "      <th>duration</th>\n",
       "      <th>actors_list</th>\n",
       "    </tr>\n",
       "  </thead>\n",
       "  <tbody>\n",
       "    <tr>\n",
       "      <th>3</th>\n",
       "      <td>9.0</td>\n",
       "      <td>The Dark Knight</td>\n",
       "      <td>PG-13</td>\n",
       "      <td>Action</td>\n",
       "      <td>152</td>\n",
       "      <td>[u'Christian Bale', u'Heath Ledger', u'Aaron E...</td>\n",
       "    </tr>\n",
       "    <tr>\n",
       "      <th>5</th>\n",
       "      <td>8.9</td>\n",
       "      <td>12 Angry Men</td>\n",
       "      <td>NOT RATED</td>\n",
       "      <td>Drama</td>\n",
       "      <td>96</td>\n",
       "      <td>[u'Henry Fonda', u'Lee J. Cobb', u'Martin Bals...</td>\n",
       "    </tr>\n",
       "    <tr>\n",
       "      <th>6</th>\n",
       "      <td>8.9</td>\n",
       "      <td>The Good, the Bad and the Ugly</td>\n",
       "      <td>NOT RATED</td>\n",
       "      <td>Western</td>\n",
       "      <td>161</td>\n",
       "      <td>[u'Clint Eastwood', u'Eli Wallach', u'Lee Van ...</td>\n",
       "    </tr>\n",
       "    <tr>\n",
       "      <th>9</th>\n",
       "      <td>8.9</td>\n",
       "      <td>Fight Club</td>\n",
       "      <td>R</td>\n",
       "      <td>Drama</td>\n",
       "      <td>139</td>\n",
       "      <td>[u'Brad Pitt', u'Edward Norton', u'Helena Bonh...</td>\n",
       "    </tr>\n",
       "    <tr>\n",
       "      <th>11</th>\n",
       "      <td>8.8</td>\n",
       "      <td>Inception</td>\n",
       "      <td>PG-13</td>\n",
       "      <td>Action</td>\n",
       "      <td>148</td>\n",
       "      <td>[u'Leonardo DiCaprio', u'Joseph Gordon-Levitt'...</td>\n",
       "    </tr>\n",
       "  </tbody>\n",
       "</table>\n",
       "</div>"
      ],
      "text/plain": [
       "    star_rating                           title content_rating    genre  \\\n",
       "3           9.0                 The Dark Knight          PG-13   Action   \n",
       "5           8.9                    12 Angry Men      NOT RATED    Drama   \n",
       "6           8.9  The Good, the Bad and the Ugly      NOT RATED  Western   \n",
       "9           8.9                      Fight Club              R    Drama   \n",
       "11          8.8                       Inception          PG-13   Action   \n",
       "\n",
       "    duration                                        actors_list  \n",
       "3        152  [u'Christian Bale', u'Heath Ledger', u'Aaron E...  \n",
       "5         96  [u'Henry Fonda', u'Lee J. Cobb', u'Martin Bals...  \n",
       "6        161  [u'Clint Eastwood', u'Eli Wallach', u'Lee Van ...  \n",
       "9        139  [u'Brad Pitt', u'Edward Norton', u'Helena Bonh...  \n",
       "11       148  [u'Leonardo DiCaprio', u'Joseph Gordon-Levitt'...  "
      ]
     },
     "execution_count": 45,
     "metadata": {},
     "output_type": "execute_result"
    }
   ],
   "source": [
    "report_1=movies[movies.genre.isin(['Action', 'Drama', 'Western'])]\n",
    "report_1.head()"
   ]
  },
  {
   "cell_type": "code",
   "execution_count": 46,
   "id": "35195564",
   "metadata": {},
   "outputs": [
    {
     "data": {
      "text/plain": [
       "'C:\\\\Users\\\\Dan Masibo'"
      ]
     },
     "execution_count": 46,
     "metadata": {},
     "output_type": "execute_result"
    }
   ],
   "source": [
    "os.getcwd()"
   ]
  },
  {
   "cell_type": "code",
   "execution_count": 47,
   "id": "fc247db5",
   "metadata": {},
   "outputs": [],
   "source": [
    "report_1.to_csv('report_1.csv', index=None)"
   ]
  },
  {
   "cell_type": "code",
   "execution_count": 48,
   "id": "1485bf00",
   "metadata": {},
   "outputs": [
    {
     "data": {
      "text/html": [
       "<div>\n",
       "<style scoped>\n",
       "    .dataframe tbody tr th:only-of-type {\n",
       "        vertical-align: middle;\n",
       "    }\n",
       "\n",
       "    .dataframe tbody tr th {\n",
       "        vertical-align: top;\n",
       "    }\n",
       "\n",
       "    .dataframe thead th {\n",
       "        text-align: right;\n",
       "    }\n",
       "</style>\n",
       "<table border=\"1\" class=\"dataframe\">\n",
       "  <thead>\n",
       "    <tr style=\"text-align: right;\">\n",
       "      <th></th>\n",
       "      <th>star_rating</th>\n",
       "      <th>title</th>\n",
       "      <th>content_rating</th>\n",
       "      <th>genre</th>\n",
       "      <th>duration</th>\n",
       "      <th>actors_list</th>\n",
       "    </tr>\n",
       "  </thead>\n",
       "  <tbody>\n",
       "    <tr>\n",
       "      <th>0</th>\n",
       "      <td>9.3</td>\n",
       "      <td>The Shawshank Redemption</td>\n",
       "      <td>R</td>\n",
       "      <td>Crime</td>\n",
       "      <td>142</td>\n",
       "      <td>[u'Tim Robbins', u'Morgan Freeman', u'Bob Gunt...</td>\n",
       "    </tr>\n",
       "    <tr>\n",
       "      <th>1</th>\n",
       "      <td>9.2</td>\n",
       "      <td>The Godfather</td>\n",
       "      <td>R</td>\n",
       "      <td>Crime</td>\n",
       "      <td>175</td>\n",
       "      <td>[u'Marlon Brando', u'Al Pacino', u'James Caan']</td>\n",
       "    </tr>\n",
       "    <tr>\n",
       "      <th>2</th>\n",
       "      <td>9.1</td>\n",
       "      <td>The Godfather: Part II</td>\n",
       "      <td>R</td>\n",
       "      <td>Crime</td>\n",
       "      <td>200</td>\n",
       "      <td>[u'Al Pacino', u'Robert De Niro', u'Robert Duv...</td>\n",
       "    </tr>\n",
       "    <tr>\n",
       "      <th>4</th>\n",
       "      <td>8.9</td>\n",
       "      <td>Pulp Fiction</td>\n",
       "      <td>R</td>\n",
       "      <td>Crime</td>\n",
       "      <td>154</td>\n",
       "      <td>[u'John Travolta', u'Uma Thurman', u'Samuel L....</td>\n",
       "    </tr>\n",
       "    <tr>\n",
       "      <th>7</th>\n",
       "      <td>8.9</td>\n",
       "      <td>The Lord of the Rings: The Return of the King</td>\n",
       "      <td>PG-13</td>\n",
       "      <td>Adventure</td>\n",
       "      <td>201</td>\n",
       "      <td>[u'Elijah Wood', u'Viggo Mortensen', u'Ian McK...</td>\n",
       "    </tr>\n",
       "  </tbody>\n",
       "</table>\n",
       "</div>"
      ],
      "text/plain": [
       "   star_rating                                          title content_rating  \\\n",
       "0          9.3                       The Shawshank Redemption              R   \n",
       "1          9.2                                  The Godfather              R   \n",
       "2          9.1                         The Godfather: Part II              R   \n",
       "4          8.9                                   Pulp Fiction              R   \n",
       "7          8.9  The Lord of the Rings: The Return of the King          PG-13   \n",
       "\n",
       "       genre  duration                                        actors_list  \n",
       "0      Crime       142  [u'Tim Robbins', u'Morgan Freeman', u'Bob Gunt...  \n",
       "1      Crime       175    [u'Marlon Brando', u'Al Pacino', u'James Caan']  \n",
       "2      Crime       200  [u'Al Pacino', u'Robert De Niro', u'Robert Duv...  \n",
       "4      Crime       154  [u'John Travolta', u'Uma Thurman', u'Samuel L....  \n",
       "7  Adventure       201  [u'Elijah Wood', u'Viggo Mortensen', u'Ian McK...  "
      ]
     },
     "execution_count": 48,
     "metadata": {},
     "output_type": "execute_result"
    }
   ],
   "source": [
    "movies[~movies.genre.isin(['Action', 'Drama', 'Western'])].head()"
   ]
  },
  {
   "cell_type": "code",
   "execution_count": 49,
   "id": "57d8a9c7",
   "metadata": {},
   "outputs": [
    {
     "data": {
      "text/plain": [
       "array(['Crime', 'Adventure', 'Biography', 'Comedy', 'Animation',\n",
       "       'Mystery', 'Horror', 'Film-Noir', 'Sci-Fi', 'History', 'Thriller',\n",
       "       'Family', 'Fantasy'], dtype=object)"
      ]
     },
     "execution_count": 49,
     "metadata": {},
     "output_type": "execute_result"
    }
   ],
   "source": [
    "movies[~movies.genre.isin(['Action', 'Drama', 'Western'])]['genre'].unique()"
   ]
  },
  {
   "cell_type": "code",
   "execution_count": 50,
   "id": "8ad2b1a1",
   "metadata": {},
   "outputs": [
    {
     "data": {
      "text/plain": [
       "Drama        278\n",
       "Comedy       156\n",
       "Action       136\n",
       "Crime        124\n",
       "Biography     77\n",
       "Name: genre, dtype: int64"
      ]
     },
     "execution_count": 50,
     "metadata": {},
     "output_type": "execute_result"
    }
   ],
   "source": [
    "counts=movies.genre.value_counts()\n",
    "counts.nlargest(5)"
   ]
  },
  {
   "cell_type": "code",
   "execution_count": 51,
   "id": "34019180",
   "metadata": {},
   "outputs": [
    {
     "data": {
      "text/plain": [
       "Index(['Drama', 'Comedy', 'Action', 'Crime', 'Biography'], dtype='object')"
      ]
     },
     "execution_count": 51,
     "metadata": {},
     "output_type": "execute_result"
    }
   ],
   "source": [
    "counts.nlargest(5).index"
   ]
  },
  {
   "cell_type": "markdown",
   "id": "8aa69b41",
   "metadata": {},
   "source": [
    "## Handling Missing Values"
   ]
  },
  {
   "cell_type": "code",
   "execution_count": 52,
   "id": "a8c58831",
   "metadata": {},
   "outputs": [
    {
     "data": {
      "text/html": [
       "<div>\n",
       "<style scoped>\n",
       "    .dataframe tbody tr th:only-of-type {\n",
       "        vertical-align: middle;\n",
       "    }\n",
       "\n",
       "    .dataframe tbody tr th {\n",
       "        vertical-align: top;\n",
       "    }\n",
       "\n",
       "    .dataframe thead th {\n",
       "        text-align: right;\n",
       "    }\n",
       "</style>\n",
       "<table border=\"1\" class=\"dataframe\">\n",
       "  <thead>\n",
       "    <tr style=\"text-align: right;\">\n",
       "      <th></th>\n",
       "      <th>City</th>\n",
       "      <th>Colors Reported</th>\n",
       "      <th>Shape Reported</th>\n",
       "      <th>State</th>\n",
       "      <th>Time</th>\n",
       "    </tr>\n",
       "  </thead>\n",
       "  <tbody>\n",
       "    <tr>\n",
       "      <th>0</th>\n",
       "      <td>Ithaca</td>\n",
       "      <td>NaN</td>\n",
       "      <td>TRIANGLE</td>\n",
       "      <td>NY</td>\n",
       "      <td>1930-06-01 22:00:00</td>\n",
       "    </tr>\n",
       "    <tr>\n",
       "      <th>1</th>\n",
       "      <td>Willingboro</td>\n",
       "      <td>NaN</td>\n",
       "      <td>OTHER</td>\n",
       "      <td>NJ</td>\n",
       "      <td>1930-06-30 20:00:00</td>\n",
       "    </tr>\n",
       "    <tr>\n",
       "      <th>2</th>\n",
       "      <td>Holyoke</td>\n",
       "      <td>NaN</td>\n",
       "      <td>OVAL</td>\n",
       "      <td>CO</td>\n",
       "      <td>1931-02-15 14:00:00</td>\n",
       "    </tr>\n",
       "    <tr>\n",
       "      <th>3</th>\n",
       "      <td>Abilene</td>\n",
       "      <td>NaN</td>\n",
       "      <td>DISK</td>\n",
       "      <td>KS</td>\n",
       "      <td>1931-06-01 13:00:00</td>\n",
       "    </tr>\n",
       "    <tr>\n",
       "      <th>4</th>\n",
       "      <td>New York Worlds Fair</td>\n",
       "      <td>NaN</td>\n",
       "      <td>LIGHT</td>\n",
       "      <td>NY</td>\n",
       "      <td>1933-04-18 19:00:00</td>\n",
       "    </tr>\n",
       "  </tbody>\n",
       "</table>\n",
       "</div>"
      ],
      "text/plain": [
       "                   City Colors Reported Shape Reported State  \\\n",
       "0                Ithaca             NaN       TRIANGLE    NY   \n",
       "1           Willingboro             NaN          OTHER    NJ   \n",
       "2               Holyoke             NaN           OVAL    CO   \n",
       "3               Abilene             NaN           DISK    KS   \n",
       "4  New York Worlds Fair             NaN          LIGHT    NY   \n",
       "\n",
       "                 Time  \n",
       "0 1930-06-01 22:00:00  \n",
       "1 1930-06-30 20:00:00  \n",
       "2 1931-02-15 14:00:00  \n",
       "3 1931-06-01 13:00:00  \n",
       "4 1933-04-18 19:00:00  "
      ]
     },
     "execution_count": 52,
     "metadata": {},
     "output_type": "execute_result"
    }
   ],
   "source": [
    "ufo.head()"
   ]
  },
  {
   "cell_type": "code",
   "execution_count": 53,
   "id": "533cede0",
   "metadata": {},
   "outputs": [
    {
     "data": {
      "text/plain": [
       "City                  25\n",
       "Colors Reported    15359\n",
       "Shape Reported      2644\n",
       "State                  0\n",
       "Time                   0\n",
       "dtype: int64"
      ]
     },
     "execution_count": 53,
     "metadata": {},
     "output_type": "execute_result"
    }
   ],
   "source": [
    "ufo.isna().sum()"
   ]
  },
  {
   "cell_type": "code",
   "execution_count": 54,
   "id": "d8e3f813",
   "metadata": {},
   "outputs": [
    {
     "data": {
      "text/plain": [
       "18028"
      ]
     },
     "execution_count": 54,
     "metadata": {},
     "output_type": "execute_result"
    }
   ],
   "source": [
    "ufo.isna().sum().sum()"
   ]
  },
  {
   "cell_type": "code",
   "execution_count": 55,
   "id": "77bf7416",
   "metadata": {},
   "outputs": [
    {
     "data": {
      "text/plain": [
       "City                0.14\n",
       "Colors Reported    84.20\n",
       "Shape Reported     14.49\n",
       "State               0.00\n",
       "Time                0.00\n",
       "dtype: float64"
      ]
     },
     "execution_count": 55,
     "metadata": {},
     "output_type": "execute_result"
    }
   ],
   "source": [
    "(ufo.isna().mean()*100).round(2)"
   ]
  },
  {
   "cell_type": "code",
   "execution_count": 56,
   "id": "35d613de",
   "metadata": {},
   "outputs": [
    {
     "data": {
      "text/html": [
       "<div>\n",
       "<style scoped>\n",
       "    .dataframe tbody tr th:only-of-type {\n",
       "        vertical-align: middle;\n",
       "    }\n",
       "\n",
       "    .dataframe tbody tr th {\n",
       "        vertical-align: top;\n",
       "    }\n",
       "\n",
       "    .dataframe thead th {\n",
       "        text-align: right;\n",
       "    }\n",
       "</style>\n",
       "<table border=\"1\" class=\"dataframe\">\n",
       "  <thead>\n",
       "    <tr style=\"text-align: right;\">\n",
       "      <th></th>\n",
       "      <th>State</th>\n",
       "      <th>Time</th>\n",
       "    </tr>\n",
       "  </thead>\n",
       "  <tbody>\n",
       "    <tr>\n",
       "      <th>0</th>\n",
       "      <td>NY</td>\n",
       "      <td>1930-06-01 22:00:00</td>\n",
       "    </tr>\n",
       "    <tr>\n",
       "      <th>1</th>\n",
       "      <td>NJ</td>\n",
       "      <td>1930-06-30 20:00:00</td>\n",
       "    </tr>\n",
       "    <tr>\n",
       "      <th>2</th>\n",
       "      <td>CO</td>\n",
       "      <td>1931-02-15 14:00:00</td>\n",
       "    </tr>\n",
       "    <tr>\n",
       "      <th>3</th>\n",
       "      <td>KS</td>\n",
       "      <td>1931-06-01 13:00:00</td>\n",
       "    </tr>\n",
       "    <tr>\n",
       "      <th>4</th>\n",
       "      <td>NY</td>\n",
       "      <td>1933-04-18 19:00:00</td>\n",
       "    </tr>\n",
       "    <tr>\n",
       "      <th>...</th>\n",
       "      <td>...</td>\n",
       "      <td>...</td>\n",
       "    </tr>\n",
       "    <tr>\n",
       "      <th>18236</th>\n",
       "      <td>IL</td>\n",
       "      <td>2000-12-31 23:00:00</td>\n",
       "    </tr>\n",
       "    <tr>\n",
       "      <th>18237</th>\n",
       "      <td>IA</td>\n",
       "      <td>2000-12-31 23:00:00</td>\n",
       "    </tr>\n",
       "    <tr>\n",
       "      <th>18238</th>\n",
       "      <td>WI</td>\n",
       "      <td>2000-12-31 23:45:00</td>\n",
       "    </tr>\n",
       "    <tr>\n",
       "      <th>18239</th>\n",
       "      <td>WI</td>\n",
       "      <td>2000-12-31 23:45:00</td>\n",
       "    </tr>\n",
       "    <tr>\n",
       "      <th>18240</th>\n",
       "      <td>FL</td>\n",
       "      <td>2000-12-31 23:59:00</td>\n",
       "    </tr>\n",
       "  </tbody>\n",
       "</table>\n",
       "<p>18241 rows × 2 columns</p>\n",
       "</div>"
      ],
      "text/plain": [
       "      State                Time\n",
       "0        NY 1930-06-01 22:00:00\n",
       "1        NJ 1930-06-30 20:00:00\n",
       "2        CO 1931-02-15 14:00:00\n",
       "3        KS 1931-06-01 13:00:00\n",
       "4        NY 1933-04-18 19:00:00\n",
       "...     ...                 ...\n",
       "18236    IL 2000-12-31 23:00:00\n",
       "18237    IA 2000-12-31 23:00:00\n",
       "18238    WI 2000-12-31 23:45:00\n",
       "18239    WI 2000-12-31 23:45:00\n",
       "18240    FL 2000-12-31 23:59:00\n",
       "\n",
       "[18241 rows x 2 columns]"
      ]
     },
     "execution_count": 56,
     "metadata": {},
     "output_type": "execute_result"
    }
   ],
   "source": [
    "ufo.dropna(axis='columns', how='any')"
   ]
  },
  {
   "cell_type": "code",
   "execution_count": 57,
   "id": "9f3714c3",
   "metadata": {},
   "outputs": [
    {
     "data": {
      "text/plain": [
       "City     0.0\n",
       "State    0.0\n",
       "Time     0.0\n",
       "dtype: float64"
      ]
     },
     "execution_count": 57,
     "metadata": {},
     "output_type": "execute_result"
    }
   ],
   "source": [
    "ufo.dropna(thresh=len(ufo)*0.9, axis='columns').head().isna().mean()*100"
   ]
  },
  {
   "cell_type": "markdown",
   "id": "0d60986c",
   "metadata": {},
   "source": [
    "## split a string into multiple columns"
   ]
  },
  {
   "cell_type": "code",
   "execution_count": 58,
   "id": "e86d0cf3",
   "metadata": {},
   "outputs": [
    {
     "data": {
      "text/html": [
       "<div>\n",
       "<style scoped>\n",
       "    .dataframe tbody tr th:only-of-type {\n",
       "        vertical-align: middle;\n",
       "    }\n",
       "\n",
       "    .dataframe tbody tr th {\n",
       "        vertical-align: top;\n",
       "    }\n",
       "\n",
       "    .dataframe thead th {\n",
       "        text-align: right;\n",
       "    }\n",
       "</style>\n",
       "<table border=\"1\" class=\"dataframe\">\n",
       "  <thead>\n",
       "    <tr style=\"text-align: right;\">\n",
       "      <th></th>\n",
       "      <th>name</th>\n",
       "      <th>location</th>\n",
       "    </tr>\n",
       "  </thead>\n",
       "  <tbody>\n",
       "    <tr>\n",
       "      <th>0</th>\n",
       "      <td>John Arthur Doe</td>\n",
       "      <td>Los Angeles, CA</td>\n",
       "    </tr>\n",
       "    <tr>\n",
       "      <th>1</th>\n",
       "      <td>Jane Ann Smith</td>\n",
       "      <td>Washington, DC</td>\n",
       "    </tr>\n",
       "  </tbody>\n",
       "</table>\n",
       "</div>"
      ],
      "text/plain": [
       "              name         location\n",
       "0  John Arthur Doe  Los Angeles, CA\n",
       "1   Jane Ann Smith   Washington, DC"
      ]
     },
     "execution_count": 58,
     "metadata": {},
     "output_type": "execute_result"
    }
   ],
   "source": [
    "df=pd.DataFrame({'name':['John Arthur Doe', 'Jane Ann Smith'],\n",
    "             'location':['Los Angeles, CA', 'Washington, DC']})\n",
    "df"
   ]
  },
  {
   "cell_type": "code",
   "execution_count": 59,
   "id": "ff907879",
   "metadata": {},
   "outputs": [
    {
     "data": {
      "text/html": [
       "<div>\n",
       "<style scoped>\n",
       "    .dataframe tbody tr th:only-of-type {\n",
       "        vertical-align: middle;\n",
       "    }\n",
       "\n",
       "    .dataframe tbody tr th {\n",
       "        vertical-align: top;\n",
       "    }\n",
       "\n",
       "    .dataframe thead th {\n",
       "        text-align: right;\n",
       "    }\n",
       "</style>\n",
       "<table border=\"1\" class=\"dataframe\">\n",
       "  <thead>\n",
       "    <tr style=\"text-align: right;\">\n",
       "      <th></th>\n",
       "      <th>0</th>\n",
       "      <th>1</th>\n",
       "      <th>2</th>\n",
       "    </tr>\n",
       "  </thead>\n",
       "  <tbody>\n",
       "    <tr>\n",
       "      <th>0</th>\n",
       "      <td>John</td>\n",
       "      <td>Arthur</td>\n",
       "      <td>Doe</td>\n",
       "    </tr>\n",
       "    <tr>\n",
       "      <th>1</th>\n",
       "      <td>Jane</td>\n",
       "      <td>Ann</td>\n",
       "      <td>Smith</td>\n",
       "    </tr>\n",
       "  </tbody>\n",
       "</table>\n",
       "</div>"
      ],
      "text/plain": [
       "      0       1      2\n",
       "0  John  Arthur    Doe\n",
       "1  Jane     Ann  Smith"
      ]
     },
     "execution_count": 59,
     "metadata": {},
     "output_type": "execute_result"
    }
   ],
   "source": [
    "df.name.str.split(' ', expand=True)"
   ]
  },
  {
   "cell_type": "code",
   "execution_count": 60,
   "id": "2ba3e948",
   "metadata": {},
   "outputs": [],
   "source": [
    "df[['f_name', 'm_name', 'l_name']]=df.name.str.split(' ', expand=True)"
   ]
  },
  {
   "cell_type": "code",
   "execution_count": 61,
   "id": "23517242",
   "metadata": {},
   "outputs": [
    {
     "data": {
      "text/html": [
       "<div>\n",
       "<style scoped>\n",
       "    .dataframe tbody tr th:only-of-type {\n",
       "        vertical-align: middle;\n",
       "    }\n",
       "\n",
       "    .dataframe tbody tr th {\n",
       "        vertical-align: top;\n",
       "    }\n",
       "\n",
       "    .dataframe thead th {\n",
       "        text-align: right;\n",
       "    }\n",
       "</style>\n",
       "<table border=\"1\" class=\"dataframe\">\n",
       "  <thead>\n",
       "    <tr style=\"text-align: right;\">\n",
       "      <th></th>\n",
       "      <th>name</th>\n",
       "      <th>location</th>\n",
       "      <th>f_name</th>\n",
       "      <th>m_name</th>\n",
       "      <th>l_name</th>\n",
       "    </tr>\n",
       "  </thead>\n",
       "  <tbody>\n",
       "    <tr>\n",
       "      <th>0</th>\n",
       "      <td>John Arthur Doe</td>\n",
       "      <td>Los Angeles, CA</td>\n",
       "      <td>John</td>\n",
       "      <td>Arthur</td>\n",
       "      <td>Doe</td>\n",
       "    </tr>\n",
       "    <tr>\n",
       "      <th>1</th>\n",
       "      <td>Jane Ann Smith</td>\n",
       "      <td>Washington, DC</td>\n",
       "      <td>Jane</td>\n",
       "      <td>Ann</td>\n",
       "      <td>Smith</td>\n",
       "    </tr>\n",
       "  </tbody>\n",
       "</table>\n",
       "</div>"
      ],
      "text/plain": [
       "              name         location f_name  m_name l_name\n",
       "0  John Arthur Doe  Los Angeles, CA   John  Arthur    Doe\n",
       "1   Jane Ann Smith   Washington, DC   Jane     Ann  Smith"
      ]
     },
     "execution_count": 61,
     "metadata": {},
     "output_type": "execute_result"
    }
   ],
   "source": [
    "df"
   ]
  },
  {
   "cell_type": "code",
   "execution_count": 62,
   "id": "b1865b2d",
   "metadata": {},
   "outputs": [],
   "source": [
    "df=df.drop(['name'], axis=1)"
   ]
  },
  {
   "cell_type": "code",
   "execution_count": 63,
   "id": "40c43fc0",
   "metadata": {},
   "outputs": [
    {
     "data": {
      "text/html": [
       "<div>\n",
       "<style scoped>\n",
       "    .dataframe tbody tr th:only-of-type {\n",
       "        vertical-align: middle;\n",
       "    }\n",
       "\n",
       "    .dataframe tbody tr th {\n",
       "        vertical-align: top;\n",
       "    }\n",
       "\n",
       "    .dataframe thead th {\n",
       "        text-align: right;\n",
       "    }\n",
       "</style>\n",
       "<table border=\"1\" class=\"dataframe\">\n",
       "  <thead>\n",
       "    <tr style=\"text-align: right;\">\n",
       "      <th></th>\n",
       "      <th>location</th>\n",
       "      <th>f_name</th>\n",
       "      <th>m_name</th>\n",
       "      <th>l_name</th>\n",
       "    </tr>\n",
       "  </thead>\n",
       "  <tbody>\n",
       "    <tr>\n",
       "      <th>0</th>\n",
       "      <td>Los Angeles, CA</td>\n",
       "      <td>John</td>\n",
       "      <td>Arthur</td>\n",
       "      <td>Doe</td>\n",
       "    </tr>\n",
       "    <tr>\n",
       "      <th>1</th>\n",
       "      <td>Washington, DC</td>\n",
       "      <td>Jane</td>\n",
       "      <td>Ann</td>\n",
       "      <td>Smith</td>\n",
       "    </tr>\n",
       "  </tbody>\n",
       "</table>\n",
       "</div>"
      ],
      "text/plain": [
       "          location f_name  m_name l_name\n",
       "0  Los Angeles, CA   John  Arthur    Doe\n",
       "1   Washington, DC   Jane     Ann  Smith"
      ]
     },
     "execution_count": 63,
     "metadata": {},
     "output_type": "execute_result"
    }
   ],
   "source": [
    "df"
   ]
  },
  {
   "cell_type": "code",
   "execution_count": 64,
   "id": "8fb960fb",
   "metadata": {},
   "outputs": [
    {
     "data": {
      "text/html": [
       "<div>\n",
       "<style scoped>\n",
       "    .dataframe tbody tr th:only-of-type {\n",
       "        vertical-align: middle;\n",
       "    }\n",
       "\n",
       "    .dataframe tbody tr th {\n",
       "        vertical-align: top;\n",
       "    }\n",
       "\n",
       "    .dataframe thead th {\n",
       "        text-align: right;\n",
       "    }\n",
       "</style>\n",
       "<table border=\"1\" class=\"dataframe\">\n",
       "  <thead>\n",
       "    <tr style=\"text-align: right;\">\n",
       "      <th></th>\n",
       "      <th>location</th>\n",
       "      <th>f_name</th>\n",
       "      <th>m_name</th>\n",
       "      <th>l_name</th>\n",
       "      <th>City</th>\n",
       "    </tr>\n",
       "  </thead>\n",
       "  <tbody>\n",
       "    <tr>\n",
       "      <th>0</th>\n",
       "      <td>Los Angeles, CA</td>\n",
       "      <td>John</td>\n",
       "      <td>Arthur</td>\n",
       "      <td>Doe</td>\n",
       "      <td>Los Angeles</td>\n",
       "    </tr>\n",
       "    <tr>\n",
       "      <th>1</th>\n",
       "      <td>Washington, DC</td>\n",
       "      <td>Jane</td>\n",
       "      <td>Ann</td>\n",
       "      <td>Smith</td>\n",
       "      <td>Washington</td>\n",
       "    </tr>\n",
       "  </tbody>\n",
       "</table>\n",
       "</div>"
      ],
      "text/plain": [
       "          location f_name  m_name l_name         City\n",
       "0  Los Angeles, CA   John  Arthur    Doe  Los Angeles\n",
       "1   Washington, DC   Jane     Ann  Smith   Washington"
      ]
     },
     "execution_count": 64,
     "metadata": {},
     "output_type": "execute_result"
    }
   ],
   "source": [
    "df['City']=df.location.str.split(',', expand=True)[0]\n",
    "df"
   ]
  },
  {
   "cell_type": "code",
   "execution_count": 65,
   "id": "4a2eba5d",
   "metadata": {},
   "outputs": [
    {
     "data": {
      "text/plain": [
       "Index(['location', 'f_name', 'm_name', 'l_name', 'City'], dtype='object')"
      ]
     },
     "execution_count": 65,
     "metadata": {},
     "output_type": "execute_result"
    }
   ],
   "source": [
    "df.columns"
   ]
  },
  {
   "cell_type": "code",
   "execution_count": 66,
   "id": "197e2ffe",
   "metadata": {},
   "outputs": [
    {
     "data": {
      "text/html": [
       "<div>\n",
       "<style scoped>\n",
       "    .dataframe tbody tr th:only-of-type {\n",
       "        vertical-align: middle;\n",
       "    }\n",
       "\n",
       "    .dataframe tbody tr th {\n",
       "        vertical-align: top;\n",
       "    }\n",
       "\n",
       "    .dataframe thead th {\n",
       "        text-align: right;\n",
       "    }\n",
       "</style>\n",
       "<table border=\"1\" class=\"dataframe\">\n",
       "  <thead>\n",
       "    <tr style=\"text-align: right;\">\n",
       "      <th></th>\n",
       "      <th>f_name</th>\n",
       "      <th>m_name</th>\n",
       "      <th>l_name</th>\n",
       "      <th>location</th>\n",
       "      <th>City</th>\n",
       "    </tr>\n",
       "  </thead>\n",
       "  <tbody>\n",
       "    <tr>\n",
       "      <th>0</th>\n",
       "      <td>John</td>\n",
       "      <td>Arthur</td>\n",
       "      <td>Doe</td>\n",
       "      <td>Los Angeles, CA</td>\n",
       "      <td>Los Angeles</td>\n",
       "    </tr>\n",
       "    <tr>\n",
       "      <th>1</th>\n",
       "      <td>Jane</td>\n",
       "      <td>Ann</td>\n",
       "      <td>Smith</td>\n",
       "      <td>Washington, DC</td>\n",
       "      <td>Washington</td>\n",
       "    </tr>\n",
       "  </tbody>\n",
       "</table>\n",
       "</div>"
      ],
      "text/plain": [
       "  f_name  m_name l_name         location         City\n",
       "0   John  Arthur    Doe  Los Angeles, CA  Los Angeles\n",
       "1   Jane     Ann  Smith   Washington, DC   Washington"
      ]
     },
     "execution_count": 66,
     "metadata": {},
     "output_type": "execute_result"
    }
   ],
   "source": [
    "df=df.loc[:, ['f_name', 'm_name', 'l_name', 'location', 'City']]\n",
    "df"
   ]
  },
  {
   "cell_type": "markdown",
   "id": "af889ffe",
   "metadata": {},
   "source": [
    "## Expand a series of lists into a DataFrame"
   ]
  },
  {
   "cell_type": "code",
   "execution_count": 67,
   "id": "c069f153",
   "metadata": {},
   "outputs": [
    {
     "data": {
      "text/html": [
       "<div>\n",
       "<style scoped>\n",
       "    .dataframe tbody tr th:only-of-type {\n",
       "        vertical-align: middle;\n",
       "    }\n",
       "\n",
       "    .dataframe tbody tr th {\n",
       "        vertical-align: top;\n",
       "    }\n",
       "\n",
       "    .dataframe thead th {\n",
       "        text-align: right;\n",
       "    }\n",
       "</style>\n",
       "<table border=\"1\" class=\"dataframe\">\n",
       "  <thead>\n",
       "    <tr style=\"text-align: right;\">\n",
       "      <th></th>\n",
       "      <th>col_one</th>\n",
       "      <th>col_two</th>\n",
       "    </tr>\n",
       "  </thead>\n",
       "  <tbody>\n",
       "    <tr>\n",
       "      <th>0</th>\n",
       "      <td>a</td>\n",
       "      <td>[10, 40]</td>\n",
       "    </tr>\n",
       "    <tr>\n",
       "      <th>1</th>\n",
       "      <td>b</td>\n",
       "      <td>[20, 50]</td>\n",
       "    </tr>\n",
       "    <tr>\n",
       "      <th>2</th>\n",
       "      <td>c</td>\n",
       "      <td>[30, 60]</td>\n",
       "    </tr>\n",
       "  </tbody>\n",
       "</table>\n",
       "</div>"
      ],
      "text/plain": [
       "  col_one   col_two\n",
       "0       a  [10, 40]\n",
       "1       b  [20, 50]\n",
       "2       c  [30, 60]"
      ]
     },
     "execution_count": 67,
     "metadata": {},
     "output_type": "execute_result"
    }
   ],
   "source": [
    "df=pd.DataFrame({'col_one':['a', 'b', 'c'],\n",
    "                'col_two':[[10, 40], [20, 50], [30, 60]]})\n",
    "df"
   ]
  },
  {
   "cell_type": "code",
   "execution_count": 68,
   "id": "c8c53a5b",
   "metadata": {},
   "outputs": [],
   "source": [
    "df_new=df.col_two.apply(pd.Series)"
   ]
  },
  {
   "cell_type": "code",
   "execution_count": 69,
   "id": "bb5930da",
   "metadata": {},
   "outputs": [
    {
     "data": {
      "text/html": [
       "<div>\n",
       "<style scoped>\n",
       "    .dataframe tbody tr th:only-of-type {\n",
       "        vertical-align: middle;\n",
       "    }\n",
       "\n",
       "    .dataframe tbody tr th {\n",
       "        vertical-align: top;\n",
       "    }\n",
       "\n",
       "    .dataframe thead th {\n",
       "        text-align: right;\n",
       "    }\n",
       "</style>\n",
       "<table border=\"1\" class=\"dataframe\">\n",
       "  <thead>\n",
       "    <tr style=\"text-align: right;\">\n",
       "      <th></th>\n",
       "      <th>0</th>\n",
       "      <th>1</th>\n",
       "    </tr>\n",
       "  </thead>\n",
       "  <tbody>\n",
       "    <tr>\n",
       "      <th>0</th>\n",
       "      <td>10</td>\n",
       "      <td>40</td>\n",
       "    </tr>\n",
       "    <tr>\n",
       "      <th>1</th>\n",
       "      <td>20</td>\n",
       "      <td>50</td>\n",
       "    </tr>\n",
       "    <tr>\n",
       "      <th>2</th>\n",
       "      <td>30</td>\n",
       "      <td>60</td>\n",
       "    </tr>\n",
       "  </tbody>\n",
       "</table>\n",
       "</div>"
      ],
      "text/plain": [
       "    0   1\n",
       "0  10  40\n",
       "1  20  50\n",
       "2  30  60"
      ]
     },
     "execution_count": 69,
     "metadata": {},
     "output_type": "execute_result"
    }
   ],
   "source": [
    "df_new"
   ]
  },
  {
   "cell_type": "code",
   "execution_count": 70,
   "id": "77b51130",
   "metadata": {},
   "outputs": [
    {
     "data": {
      "text/html": [
       "<div>\n",
       "<style scoped>\n",
       "    .dataframe tbody tr th:only-of-type {\n",
       "        vertical-align: middle;\n",
       "    }\n",
       "\n",
       "    .dataframe tbody tr th {\n",
       "        vertical-align: top;\n",
       "    }\n",
       "\n",
       "    .dataframe thead th {\n",
       "        text-align: right;\n",
       "    }\n",
       "</style>\n",
       "<table border=\"1\" class=\"dataframe\">\n",
       "  <thead>\n",
       "    <tr style=\"text-align: right;\">\n",
       "      <th></th>\n",
       "      <th>col_one</th>\n",
       "      <th>col_two</th>\n",
       "      <th>0</th>\n",
       "      <th>1</th>\n",
       "    </tr>\n",
       "  </thead>\n",
       "  <tbody>\n",
       "    <tr>\n",
       "      <th>0</th>\n",
       "      <td>a</td>\n",
       "      <td>[10, 40]</td>\n",
       "      <td>10</td>\n",
       "      <td>40</td>\n",
       "    </tr>\n",
       "    <tr>\n",
       "      <th>1</th>\n",
       "      <td>b</td>\n",
       "      <td>[20, 50]</td>\n",
       "      <td>20</td>\n",
       "      <td>50</td>\n",
       "    </tr>\n",
       "    <tr>\n",
       "      <th>2</th>\n",
       "      <td>c</td>\n",
       "      <td>[30, 60]</td>\n",
       "      <td>30</td>\n",
       "      <td>60</td>\n",
       "    </tr>\n",
       "  </tbody>\n",
       "</table>\n",
       "</div>"
      ],
      "text/plain": [
       "  col_one   col_two   0   1\n",
       "0       a  [10, 40]  10  40\n",
       "1       b  [20, 50]  20  50\n",
       "2       c  [30, 60]  30  60"
      ]
     },
     "execution_count": 70,
     "metadata": {},
     "output_type": "execute_result"
    }
   ],
   "source": [
    "pd.concat([df,df_new], axis=1)"
   ]
  },
  {
   "cell_type": "markdown",
   "id": "6f785aa8",
   "metadata": {},
   "source": [
    "## Aggregate by Multiple Functions"
   ]
  },
  {
   "cell_type": "code",
   "execution_count": 71,
   "id": "4d73c94f",
   "metadata": {},
   "outputs": [
    {
     "data": {
      "text/html": [
       "<div>\n",
       "<style scoped>\n",
       "    .dataframe tbody tr th:only-of-type {\n",
       "        vertical-align: middle;\n",
       "    }\n",
       "\n",
       "    .dataframe tbody tr th {\n",
       "        vertical-align: top;\n",
       "    }\n",
       "\n",
       "    .dataframe thead th {\n",
       "        text-align: right;\n",
       "    }\n",
       "</style>\n",
       "<table border=\"1\" class=\"dataframe\">\n",
       "  <thead>\n",
       "    <tr style=\"text-align: right;\">\n",
       "      <th></th>\n",
       "      <th>order_id</th>\n",
       "      <th>quantity</th>\n",
       "      <th>item_name</th>\n",
       "      <th>choice_description</th>\n",
       "      <th>item_price</th>\n",
       "    </tr>\n",
       "  </thead>\n",
       "  <tbody>\n",
       "    <tr>\n",
       "      <th>0</th>\n",
       "      <td>1</td>\n",
       "      <td>1</td>\n",
       "      <td>Chips and Fresh Tomato Salsa</td>\n",
       "      <td>NaN</td>\n",
       "      <td>2.39</td>\n",
       "    </tr>\n",
       "    <tr>\n",
       "      <th>1</th>\n",
       "      <td>1</td>\n",
       "      <td>1</td>\n",
       "      <td>Izze</td>\n",
       "      <td>[Clementine]</td>\n",
       "      <td>3.39</td>\n",
       "    </tr>\n",
       "    <tr>\n",
       "      <th>2</th>\n",
       "      <td>1</td>\n",
       "      <td>1</td>\n",
       "      <td>Nantucket Nectar</td>\n",
       "      <td>[Apple]</td>\n",
       "      <td>3.39</td>\n",
       "    </tr>\n",
       "    <tr>\n",
       "      <th>3</th>\n",
       "      <td>1</td>\n",
       "      <td>1</td>\n",
       "      <td>Chips and Tomatillo-Green Chili Salsa</td>\n",
       "      <td>NaN</td>\n",
       "      <td>2.39</td>\n",
       "    </tr>\n",
       "    <tr>\n",
       "      <th>4</th>\n",
       "      <td>2</td>\n",
       "      <td>2</td>\n",
       "      <td>Chicken Bowl</td>\n",
       "      <td>[Tomatillo-Red Chili Salsa (Hot), [Black Beans...</td>\n",
       "      <td>16.98</td>\n",
       "    </tr>\n",
       "  </tbody>\n",
       "</table>\n",
       "</div>"
      ],
      "text/plain": [
       "   order_id  quantity                              item_name  \\\n",
       "0         1         1           Chips and Fresh Tomato Salsa   \n",
       "1         1         1                                   Izze   \n",
       "2         1         1                       Nantucket Nectar   \n",
       "3         1         1  Chips and Tomatillo-Green Chili Salsa   \n",
       "4         2         2                           Chicken Bowl   \n",
       "\n",
       "                                  choice_description  item_price  \n",
       "0                                                NaN        2.39  \n",
       "1                                       [Clementine]        3.39  \n",
       "2                                            [Apple]        3.39  \n",
       "3                                                NaN        2.39  \n",
       "4  [Tomatillo-Red Chili Salsa (Hot), [Black Beans...       16.98  "
      ]
     },
     "execution_count": 71,
     "metadata": {},
     "output_type": "execute_result"
    }
   ],
   "source": [
    "orders.head()"
   ]
  },
  {
   "cell_type": "markdown",
   "id": "ebb0f040",
   "metadata": {},
   "source": [
    "## Combine the output of an Aggregation with a DataFrame"
   ]
  },
  {
   "cell_type": "code",
   "execution_count": 72,
   "id": "f7bcd6a2",
   "metadata": {},
   "outputs": [
    {
     "data": {
      "text/html": [
       "<div>\n",
       "<style scoped>\n",
       "    .dataframe tbody tr th:only-of-type {\n",
       "        vertical-align: middle;\n",
       "    }\n",
       "\n",
       "    .dataframe tbody tr th {\n",
       "        vertical-align: top;\n",
       "    }\n",
       "\n",
       "    .dataframe thead th {\n",
       "        text-align: right;\n",
       "    }\n",
       "</style>\n",
       "<table border=\"1\" class=\"dataframe\">\n",
       "  <thead>\n",
       "    <tr style=\"text-align: right;\">\n",
       "      <th></th>\n",
       "      <th>order_id</th>\n",
       "      <th>quantity</th>\n",
       "      <th>item_name</th>\n",
       "      <th>choice_description</th>\n",
       "      <th>item_price</th>\n",
       "    </tr>\n",
       "  </thead>\n",
       "  <tbody>\n",
       "    <tr>\n",
       "      <th>0</th>\n",
       "      <td>1</td>\n",
       "      <td>1</td>\n",
       "      <td>Chips and Fresh Tomato Salsa</td>\n",
       "      <td>NaN</td>\n",
       "      <td>2.39</td>\n",
       "    </tr>\n",
       "    <tr>\n",
       "      <th>1</th>\n",
       "      <td>1</td>\n",
       "      <td>1</td>\n",
       "      <td>Izze</td>\n",
       "      <td>[Clementine]</td>\n",
       "      <td>3.39</td>\n",
       "    </tr>\n",
       "    <tr>\n",
       "      <th>2</th>\n",
       "      <td>1</td>\n",
       "      <td>1</td>\n",
       "      <td>Nantucket Nectar</td>\n",
       "      <td>[Apple]</td>\n",
       "      <td>3.39</td>\n",
       "    </tr>\n",
       "    <tr>\n",
       "      <th>3</th>\n",
       "      <td>1</td>\n",
       "      <td>1</td>\n",
       "      <td>Chips and Tomatillo-Green Chili Salsa</td>\n",
       "      <td>NaN</td>\n",
       "      <td>2.39</td>\n",
       "    </tr>\n",
       "  </tbody>\n",
       "</table>\n",
       "</div>"
      ],
      "text/plain": [
       "   order_id  quantity                              item_name  \\\n",
       "0         1         1           Chips and Fresh Tomato Salsa   \n",
       "1         1         1                                   Izze   \n",
       "2         1         1                       Nantucket Nectar   \n",
       "3         1         1  Chips and Tomatillo-Green Chili Salsa   \n",
       "\n",
       "  choice_description  item_price  \n",
       "0                NaN        2.39  \n",
       "1       [Clementine]        3.39  \n",
       "2            [Apple]        3.39  \n",
       "3                NaN        2.39  "
      ]
     },
     "execution_count": 72,
     "metadata": {},
     "output_type": "execute_result"
    }
   ],
   "source": [
    "orders[orders.order_id==1]"
   ]
  },
  {
   "cell_type": "code",
   "execution_count": 73,
   "id": "56dc2778",
   "metadata": {},
   "outputs": [
    {
     "data": {
      "text/plain": [
       "11.56"
      ]
     },
     "execution_count": 73,
     "metadata": {},
     "output_type": "execute_result"
    }
   ],
   "source": [
    "orders[orders.order_id==1].item_price.sum()"
   ]
  },
  {
   "cell_type": "code",
   "execution_count": 74,
   "id": "29905b0b",
   "metadata": {},
   "outputs": [
    {
     "data": {
      "text/plain": [
       "order_id\n",
       "1    11.56\n",
       "2    16.98\n",
       "3    12.67\n",
       "4    21.00\n",
       "5    13.70\n",
       "Name: item_price, dtype: float64"
      ]
     },
     "execution_count": 74,
     "metadata": {},
     "output_type": "execute_result"
    }
   ],
   "source": [
    "orders.groupby('order_id').item_price.sum().head()"
   ]
  },
  {
   "cell_type": "code",
   "execution_count": 75,
   "id": "e385f889",
   "metadata": {},
   "outputs": [
    {
     "data": {
      "text/html": [
       "<div>\n",
       "<style scoped>\n",
       "    .dataframe tbody tr th:only-of-type {\n",
       "        vertical-align: middle;\n",
       "    }\n",
       "\n",
       "    .dataframe tbody tr th {\n",
       "        vertical-align: top;\n",
       "    }\n",
       "\n",
       "    .dataframe thead th {\n",
       "        text-align: right;\n",
       "    }\n",
       "</style>\n",
       "<table border=\"1\" class=\"dataframe\">\n",
       "  <thead>\n",
       "    <tr style=\"text-align: right;\">\n",
       "      <th></th>\n",
       "      <th>sum</th>\n",
       "      <th>count</th>\n",
       "    </tr>\n",
       "    <tr>\n",
       "      <th>order_id</th>\n",
       "      <th></th>\n",
       "      <th></th>\n",
       "    </tr>\n",
       "  </thead>\n",
       "  <tbody>\n",
       "    <tr>\n",
       "      <th>1</th>\n",
       "      <td>11.56</td>\n",
       "      <td>4</td>\n",
       "    </tr>\n",
       "    <tr>\n",
       "      <th>2</th>\n",
       "      <td>16.98</td>\n",
       "      <td>1</td>\n",
       "    </tr>\n",
       "    <tr>\n",
       "      <th>3</th>\n",
       "      <td>12.67</td>\n",
       "      <td>2</td>\n",
       "    </tr>\n",
       "    <tr>\n",
       "      <th>4</th>\n",
       "      <td>21.00</td>\n",
       "      <td>2</td>\n",
       "    </tr>\n",
       "    <tr>\n",
       "      <th>5</th>\n",
       "      <td>13.70</td>\n",
       "      <td>2</td>\n",
       "    </tr>\n",
       "  </tbody>\n",
       "</table>\n",
       "</div>"
      ],
      "text/plain": [
       "            sum  count\n",
       "order_id              \n",
       "1         11.56      4\n",
       "2         16.98      1\n",
       "3         12.67      2\n",
       "4         21.00      2\n",
       "5         13.70      2"
      ]
     },
     "execution_count": 75,
     "metadata": {},
     "output_type": "execute_result"
    }
   ],
   "source": [
    "orders.groupby('order_id').item_price.agg(['sum', 'count']).head()"
   ]
  },
  {
   "cell_type": "code",
   "execution_count": 76,
   "id": "c21bc161",
   "metadata": {},
   "outputs": [
    {
     "data": {
      "text/plain": [
       "(4622, 5)"
      ]
     },
     "execution_count": 76,
     "metadata": {},
     "output_type": "execute_result"
    }
   ],
   "source": [
    "orders.shape"
   ]
  },
  {
   "cell_type": "code",
   "execution_count": 77,
   "id": "30e59e28",
   "metadata": {},
   "outputs": [],
   "source": [
    "import os \n",
    "os.chdir(r\"C:\\Users\\Dan Masibo\\Documents\\mwaura\")"
   ]
  },
  {
   "cell_type": "code",
   "execution_count": 78,
   "id": "fb7e58dd",
   "metadata": {},
   "outputs": [
    {
     "data": {
      "text/html": [
       "<div>\n",
       "<style scoped>\n",
       "    .dataframe tbody tr th:only-of-type {\n",
       "        vertical-align: middle;\n",
       "    }\n",
       "\n",
       "    .dataframe tbody tr th {\n",
       "        vertical-align: top;\n",
       "    }\n",
       "\n",
       "    .dataframe thead th {\n",
       "        text-align: right;\n",
       "    }\n",
       "</style>\n",
       "<table border=\"1\" class=\"dataframe\">\n",
       "  <thead>\n",
       "    <tr style=\"text-align: right;\">\n",
       "      <th></th>\n",
       "      <th>Unnamed: 0</th>\n",
       "      <th>PIN of Customer</th>\n",
       "      <th>Name of Customer</th>\n",
       "      <th>ETR Serial Number</th>\n",
       "      <th>Bill Date</th>\n",
       "      <th>Bill No</th>\n",
       "      <th>Desscription of Goods/Services</th>\n",
       "      <th>Sales Value (Kshs)</th>\n",
       "      <th>Unnamed: 8</th>\n",
       "      <th>Unnamed: 9</th>\n",
       "      <th>Unnamed: 10</th>\n",
       "      <th>Unnamed: 11</th>\n",
       "    </tr>\n",
       "  </thead>\n",
       "  <tbody>\n",
       "    <tr>\n",
       "      <th>0</th>\n",
       "      <td>NaN</td>\n",
       "      <td>0</td>\n",
       "      <td>CASH</td>\n",
       "      <td>NaN</td>\n",
       "      <td>2022-10-01</td>\n",
       "      <td>IPF-7281-22</td>\n",
       "      <td>Medical Services</td>\n",
       "      <td>3600.0</td>\n",
       "      <td>IPD</td>\n",
       "      <td>CASH SALE</td>\n",
       "      <td>NaN</td>\n",
       "      <td>NaN</td>\n",
       "    </tr>\n",
       "    <tr>\n",
       "      <th>1</th>\n",
       "      <td>NaN</td>\n",
       "      <td>0</td>\n",
       "      <td>CASH</td>\n",
       "      <td>NaN</td>\n",
       "      <td>2022-10-01</td>\n",
       "      <td>IPF-7281-22</td>\n",
       "      <td>Medical Services</td>\n",
       "      <td>6000.0</td>\n",
       "      <td>IPD</td>\n",
       "      <td>CASH SALE</td>\n",
       "      <td>NaN</td>\n",
       "      <td>NaN</td>\n",
       "    </tr>\n",
       "    <tr>\n",
       "      <th>2</th>\n",
       "      <td>NaN</td>\n",
       "      <td>0</td>\n",
       "      <td>CASH</td>\n",
       "      <td>NaN</td>\n",
       "      <td>2022-10-03</td>\n",
       "      <td>IPF-7294-22</td>\n",
       "      <td>Medical Services</td>\n",
       "      <td>2400.0</td>\n",
       "      <td>IPD</td>\n",
       "      <td>CASH SALE</td>\n",
       "      <td>NaN</td>\n",
       "      <td>NaN</td>\n",
       "    </tr>\n",
       "  </tbody>\n",
       "</table>\n",
       "</div>"
      ],
      "text/plain": [
       "   Unnamed: 0 PIN of Customer Name of Customer  ETR Serial Number  Bill Date  \\\n",
       "0         NaN               0             CASH                NaN 2022-10-01   \n",
       "1         NaN               0             CASH                NaN 2022-10-01   \n",
       "2         NaN               0             CASH                NaN 2022-10-03   \n",
       "\n",
       "       Bill No Desscription of Goods/Services  Sales Value (Kshs) Unnamed: 8  \\\n",
       "0  IPF-7281-22               Medical Services              3600.0        IPD   \n",
       "1  IPF-7281-22               Medical Services              6000.0        IPD   \n",
       "2  IPF-7294-22               Medical Services              2400.0        IPD   \n",
       "\n",
       "  Unnamed: 9  Unnamed: 10  Unnamed: 11  \n",
       "0  CASH SALE          NaN          NaN  \n",
       "1  CASH SALE          NaN          NaN  \n",
       "2  CASH SALE          NaN          NaN  "
      ]
     },
     "execution_count": 78,
     "metadata": {},
     "output_type": "execute_result"
    }
   ],
   "source": [
    "df=pd.read_excel('sales_october.xlsx')\n",
    "df.head(3)"
   ]
  },
  {
   "cell_type": "code",
   "execution_count": 79,
   "id": "61d5b059",
   "metadata": {},
   "outputs": [
    {
     "data": {
      "text/plain": [
       "Index(['Unnamed: 0', 'PIN of Customer', 'Name of Customer',\n",
       "       'ETR Serial Number', 'Bill Date', 'Bill No',\n",
       "       'Desscription of Goods/Services', 'Sales Value (Kshs)', 'Unnamed: 8',\n",
       "       'Unnamed: 9', 'Unnamed: 10', 'Unnamed: 11'],\n",
       "      dtype='object')"
      ]
     },
     "execution_count": 79,
     "metadata": {},
     "output_type": "execute_result"
    }
   ],
   "source": [
    "df.columns"
   ]
  },
  {
   "cell_type": "code",
   "execution_count": 80,
   "id": "33b285dd",
   "metadata": {},
   "outputs": [
    {
     "data": {
      "text/plain": [
       "Index(['Unnamed:_0', 'PIN_of_Customer', 'Name_of_Customer',\n",
       "       'ETR_Serial_Number', 'Bill_Date', 'Bill_No',\n",
       "       'Desscription_of_Goods/Services', 'Sales_Value_(Kshs)', 'Unnamed:_8',\n",
       "       'Unnamed:_9', 'Unnamed:_10', 'Unnamed:_11'],\n",
       "      dtype='object')"
      ]
     },
     "execution_count": 80,
     "metadata": {},
     "output_type": "execute_result"
    }
   ],
   "source": [
    "df.columns=df.columns.str.replace(' ', '_')\n",
    "df.columns"
   ]
  },
  {
   "cell_type": "code",
   "execution_count": 81,
   "id": "20380210",
   "metadata": {},
   "outputs": [
    {
     "data": {
      "text/plain": [
       "(62774, 12)"
      ]
     },
     "execution_count": 81,
     "metadata": {},
     "output_type": "execute_result"
    }
   ],
   "source": [
    "df.shape"
   ]
  },
  {
   "cell_type": "code",
   "execution_count": 82,
   "id": "17cf95e1",
   "metadata": {},
   "outputs": [
    {
     "data": {
      "text/html": [
       "<div>\n",
       "<style scoped>\n",
       "    .dataframe tbody tr th:only-of-type {\n",
       "        vertical-align: middle;\n",
       "    }\n",
       "\n",
       "    .dataframe tbody tr th {\n",
       "        vertical-align: top;\n",
       "    }\n",
       "\n",
       "    .dataframe thead th {\n",
       "        text-align: right;\n",
       "    }\n",
       "</style>\n",
       "<table border=\"1\" class=\"dataframe\">\n",
       "  <thead>\n",
       "    <tr style=\"text-align: right;\">\n",
       "      <th></th>\n",
       "      <th>sum</th>\n",
       "      <th>count</th>\n",
       "    </tr>\n",
       "    <tr>\n",
       "      <th>Bill_No</th>\n",
       "      <th></th>\n",
       "      <th></th>\n",
       "    </tr>\n",
       "  </thead>\n",
       "  <tbody>\n",
       "    <tr>\n",
       "      <th>IPF-7518-22</th>\n",
       "      <td>1150000.00</td>\n",
       "      <td>648</td>\n",
       "    </tr>\n",
       "    <tr>\n",
       "      <th>IPF-7774-22</th>\n",
       "      <td>808500.00</td>\n",
       "      <td>341</td>\n",
       "    </tr>\n",
       "    <tr>\n",
       "      <th>IPF-7497-22</th>\n",
       "      <td>615000.00</td>\n",
       "      <td>305</td>\n",
       "    </tr>\n",
       "    <tr>\n",
       "      <th>IPFCA18188-22</th>\n",
       "      <td>776000.00</td>\n",
       "      <td>256</td>\n",
       "    </tr>\n",
       "    <tr>\n",
       "      <th>IPFCA18314-22</th>\n",
       "      <td>443600.00</td>\n",
       "      <td>249</td>\n",
       "    </tr>\n",
       "    <tr>\n",
       "      <th>IPF-7818-22</th>\n",
       "      <td>640700.00</td>\n",
       "      <td>234</td>\n",
       "    </tr>\n",
       "    <tr>\n",
       "      <th>IPFCA18456-22</th>\n",
       "      <td>642128.59</td>\n",
       "      <td>218</td>\n",
       "    </tr>\n",
       "    <tr>\n",
       "      <th>IPFCA18510-22</th>\n",
       "      <td>408990.00</td>\n",
       "      <td>210</td>\n",
       "    </tr>\n",
       "    <tr>\n",
       "      <th>IPFCA18356-22</th>\n",
       "      <td>403572.11</td>\n",
       "      <td>206</td>\n",
       "    </tr>\n",
       "    <tr>\n",
       "      <th>IPF-7656-22</th>\n",
       "      <td>451750.00</td>\n",
       "      <td>200</td>\n",
       "    </tr>\n",
       "  </tbody>\n",
       "</table>\n",
       "</div>"
      ],
      "text/plain": [
       "                      sum  count\n",
       "Bill_No                         \n",
       "IPF-7518-22    1150000.00    648\n",
       "IPF-7774-22     808500.00    341\n",
       "IPF-7497-22     615000.00    305\n",
       "IPFCA18188-22   776000.00    256\n",
       "IPFCA18314-22   443600.00    249\n",
       "IPF-7818-22     640700.00    234\n",
       "IPFCA18456-22   642128.59    218\n",
       "IPFCA18510-22   408990.00    210\n",
       "IPFCA18356-22   403572.11    206\n",
       "IPF-7656-22     451750.00    200"
      ]
     },
     "execution_count": 82,
     "metadata": {},
     "output_type": "execute_result"
    }
   ],
   "source": [
    "df.groupby('Bill_No')['Sales_Value_(Kshs)'].agg(['sum', \n",
    "                                                 'count']).sort_values(by='count', \n",
    "                                                                      ascending=False).head(10)"
   ]
  },
  {
   "cell_type": "code",
   "execution_count": 83,
   "id": "1462a039",
   "metadata": {},
   "outputs": [
    {
     "data": {
      "text/plain": [
       "0        148687.14\n",
       "1        148687.14\n",
       "2         48972.55\n",
       "3         48972.55\n",
       "4         59704.19\n",
       "           ...    \n",
       "62769    -17825.00\n",
       "62770    -17825.00\n",
       "62771      -240.00\n",
       "62772    -12000.00\n",
       "62773     -5500.00\n",
       "Name: Sales_Value_(Kshs), Length: 62774, dtype: float64"
      ]
     },
     "execution_count": 83,
     "metadata": {},
     "output_type": "execute_result"
    }
   ],
   "source": [
    "agg_sales=df.groupby('Bill_No')['Sales_Value_(Kshs)'].transform('sum')\n",
    "agg_sales"
   ]
  },
  {
   "cell_type": "code",
   "execution_count": 84,
   "id": "3caadec9",
   "metadata": {},
   "outputs": [
    {
     "data": {
      "text/plain": [
       "(62774,)"
      ]
     },
     "execution_count": 84,
     "metadata": {},
     "output_type": "execute_result"
    }
   ],
   "source": [
    "agg_sales.shape"
   ]
  },
  {
   "cell_type": "code",
   "execution_count": 85,
   "id": "076f46a3",
   "metadata": {},
   "outputs": [],
   "source": [
    "df['agg_sales']=agg_sales"
   ]
  },
  {
   "cell_type": "code",
   "execution_count": 86,
   "id": "d127f45a",
   "metadata": {},
   "outputs": [
    {
     "data": {
      "text/html": [
       "<div>\n",
       "<style scoped>\n",
       "    .dataframe tbody tr th:only-of-type {\n",
       "        vertical-align: middle;\n",
       "    }\n",
       "\n",
       "    .dataframe tbody tr th {\n",
       "        vertical-align: top;\n",
       "    }\n",
       "\n",
       "    .dataframe thead th {\n",
       "        text-align: right;\n",
       "    }\n",
       "</style>\n",
       "<table border=\"1\" class=\"dataframe\">\n",
       "  <thead>\n",
       "    <tr style=\"text-align: right;\">\n",
       "      <th></th>\n",
       "      <th>Unnamed:_0</th>\n",
       "      <th>PIN_of_Customer</th>\n",
       "      <th>Name_of_Customer</th>\n",
       "      <th>ETR_Serial_Number</th>\n",
       "      <th>Bill_Date</th>\n",
       "      <th>Bill_No</th>\n",
       "      <th>Desscription_of_Goods/Services</th>\n",
       "      <th>Sales_Value_(Kshs)</th>\n",
       "      <th>Unnamed:_8</th>\n",
       "      <th>Unnamed:_9</th>\n",
       "      <th>Unnamed:_10</th>\n",
       "      <th>Unnamed:_11</th>\n",
       "      <th>agg_sales</th>\n",
       "    </tr>\n",
       "  </thead>\n",
       "  <tbody>\n",
       "    <tr>\n",
       "      <th>0</th>\n",
       "      <td>NaN</td>\n",
       "      <td>0</td>\n",
       "      <td>CASH</td>\n",
       "      <td>NaN</td>\n",
       "      <td>2022-10-01</td>\n",
       "      <td>IPF-7281-22</td>\n",
       "      <td>Medical Services</td>\n",
       "      <td>3600.0</td>\n",
       "      <td>IPD</td>\n",
       "      <td>CASH SALE</td>\n",
       "      <td>NaN</td>\n",
       "      <td>NaN</td>\n",
       "      <td>148687.14</td>\n",
       "    </tr>\n",
       "    <tr>\n",
       "      <th>1</th>\n",
       "      <td>NaN</td>\n",
       "      <td>0</td>\n",
       "      <td>CASH</td>\n",
       "      <td>NaN</td>\n",
       "      <td>2022-10-01</td>\n",
       "      <td>IPF-7281-22</td>\n",
       "      <td>Medical Services</td>\n",
       "      <td>6000.0</td>\n",
       "      <td>IPD</td>\n",
       "      <td>CASH SALE</td>\n",
       "      <td>NaN</td>\n",
       "      <td>NaN</td>\n",
       "      <td>148687.14</td>\n",
       "    </tr>\n",
       "    <tr>\n",
       "      <th>2</th>\n",
       "      <td>NaN</td>\n",
       "      <td>0</td>\n",
       "      <td>CASH</td>\n",
       "      <td>NaN</td>\n",
       "      <td>2022-10-03</td>\n",
       "      <td>IPF-7294-22</td>\n",
       "      <td>Medical Services</td>\n",
       "      <td>2400.0</td>\n",
       "      <td>IPD</td>\n",
       "      <td>CASH SALE</td>\n",
       "      <td>NaN</td>\n",
       "      <td>NaN</td>\n",
       "      <td>48972.55</td>\n",
       "    </tr>\n",
       "  </tbody>\n",
       "</table>\n",
       "</div>"
      ],
      "text/plain": [
       "   Unnamed:_0 PIN_of_Customer Name_of_Customer  ETR_Serial_Number  Bill_Date  \\\n",
       "0         NaN               0             CASH                NaN 2022-10-01   \n",
       "1         NaN               0             CASH                NaN 2022-10-01   \n",
       "2         NaN               0             CASH                NaN 2022-10-03   \n",
       "\n",
       "       Bill_No Desscription_of_Goods/Services  Sales_Value_(Kshs) Unnamed:_8  \\\n",
       "0  IPF-7281-22               Medical Services              3600.0        IPD   \n",
       "1  IPF-7281-22               Medical Services              6000.0        IPD   \n",
       "2  IPF-7294-22               Medical Services              2400.0        IPD   \n",
       "\n",
       "  Unnamed:_9  Unnamed:_10  Unnamed:_11  agg_sales  \n",
       "0  CASH SALE          NaN          NaN  148687.14  \n",
       "1  CASH SALE          NaN          NaN  148687.14  \n",
       "2  CASH SALE          NaN          NaN   48972.55  "
      ]
     },
     "execution_count": 86,
     "metadata": {},
     "output_type": "execute_result"
    }
   ],
   "source": [
    "df.head(3)"
   ]
  },
  {
   "cell_type": "code",
   "execution_count": 87,
   "id": "dade3cb2",
   "metadata": {},
   "outputs": [
    {
     "data": {
      "text/html": [
       "<div>\n",
       "<style scoped>\n",
       "    .dataframe tbody tr th:only-of-type {\n",
       "        vertical-align: middle;\n",
       "    }\n",
       "\n",
       "    .dataframe tbody tr th {\n",
       "        vertical-align: top;\n",
       "    }\n",
       "\n",
       "    .dataframe thead th {\n",
       "        text-align: right;\n",
       "    }\n",
       "</style>\n",
       "<table border=\"1\" class=\"dataframe\">\n",
       "  <thead>\n",
       "    <tr style=\"text-align: right;\">\n",
       "      <th></th>\n",
       "      <th>Unnamed:_0</th>\n",
       "      <th>PIN_of_Customer</th>\n",
       "      <th>Name_of_Customer</th>\n",
       "      <th>ETR_Serial_Number</th>\n",
       "      <th>Bill_Date</th>\n",
       "      <th>Bill_No</th>\n",
       "      <th>Desscription_of_Goods/Services</th>\n",
       "      <th>Unnamed:_8</th>\n",
       "      <th>Unnamed:_9</th>\n",
       "      <th>Unnamed:_10</th>\n",
       "      <th>Unnamed:_11</th>\n",
       "      <th>agg_sales</th>\n",
       "    </tr>\n",
       "  </thead>\n",
       "  <tbody>\n",
       "    <tr>\n",
       "      <th>0</th>\n",
       "      <td>NaN</td>\n",
       "      <td>0</td>\n",
       "      <td>CASH</td>\n",
       "      <td>NaN</td>\n",
       "      <td>2022-10-01</td>\n",
       "      <td>IPF-7281-22</td>\n",
       "      <td>Medical Services</td>\n",
       "      <td>IPD</td>\n",
       "      <td>CASH SALE</td>\n",
       "      <td>NaN</td>\n",
       "      <td>NaN</td>\n",
       "      <td>148687.14</td>\n",
       "    </tr>\n",
       "    <tr>\n",
       "      <th>1</th>\n",
       "      <td>NaN</td>\n",
       "      <td>0</td>\n",
       "      <td>CASH</td>\n",
       "      <td>NaN</td>\n",
       "      <td>2022-10-01</td>\n",
       "      <td>IPF-7281-22</td>\n",
       "      <td>Medical Services</td>\n",
       "      <td>IPD</td>\n",
       "      <td>CASH SALE</td>\n",
       "      <td>NaN</td>\n",
       "      <td>NaN</td>\n",
       "      <td>148687.14</td>\n",
       "    </tr>\n",
       "    <tr>\n",
       "      <th>2</th>\n",
       "      <td>NaN</td>\n",
       "      <td>0</td>\n",
       "      <td>CASH</td>\n",
       "      <td>NaN</td>\n",
       "      <td>2022-10-03</td>\n",
       "      <td>IPF-7294-22</td>\n",
       "      <td>Medical Services</td>\n",
       "      <td>IPD</td>\n",
       "      <td>CASH SALE</td>\n",
       "      <td>NaN</td>\n",
       "      <td>NaN</td>\n",
       "      <td>48972.55</td>\n",
       "    </tr>\n",
       "  </tbody>\n",
       "</table>\n",
       "</div>"
      ],
      "text/plain": [
       "   Unnamed:_0 PIN_of_Customer Name_of_Customer  ETR_Serial_Number  Bill_Date  \\\n",
       "0         NaN               0             CASH                NaN 2022-10-01   \n",
       "1         NaN               0             CASH                NaN 2022-10-01   \n",
       "2         NaN               0             CASH                NaN 2022-10-03   \n",
       "\n",
       "       Bill_No Desscription_of_Goods/Services Unnamed:_8 Unnamed:_9  \\\n",
       "0  IPF-7281-22               Medical Services        IPD  CASH SALE   \n",
       "1  IPF-7281-22               Medical Services        IPD  CASH SALE   \n",
       "2  IPF-7294-22               Medical Services        IPD  CASH SALE   \n",
       "\n",
       "   Unnamed:_10  Unnamed:_11  agg_sales  \n",
       "0          NaN          NaN  148687.14  \n",
       "1          NaN          NaN  148687.14  \n",
       "2          NaN          NaN   48972.55  "
      ]
     },
     "execution_count": 87,
     "metadata": {},
     "output_type": "execute_result"
    }
   ],
   "source": [
    "df=df.drop(['Sales_Value_(Kshs)'], axis=1)\n",
    "df.head(3)"
   ]
  },
  {
   "cell_type": "code",
   "execution_count": 90,
   "id": "3a2c5e4e",
   "metadata": {},
   "outputs": [],
   "source": [
    "df=df.rename(columns={'agg_sales':'Sales_Value_(Kshs)'})"
   ]
  },
  {
   "cell_type": "code",
   "execution_count": 91,
   "id": "fdafb8e3",
   "metadata": {},
   "outputs": [
    {
     "data": {
      "text/html": [
       "<div>\n",
       "<style scoped>\n",
       "    .dataframe tbody tr th:only-of-type {\n",
       "        vertical-align: middle;\n",
       "    }\n",
       "\n",
       "    .dataframe tbody tr th {\n",
       "        vertical-align: top;\n",
       "    }\n",
       "\n",
       "    .dataframe thead th {\n",
       "        text-align: right;\n",
       "    }\n",
       "</style>\n",
       "<table border=\"1\" class=\"dataframe\">\n",
       "  <thead>\n",
       "    <tr style=\"text-align: right;\">\n",
       "      <th></th>\n",
       "      <th>Unnamed:_0</th>\n",
       "      <th>PIN_of_Customer</th>\n",
       "      <th>Name_of_Customer</th>\n",
       "      <th>ETR_Serial_Number</th>\n",
       "      <th>Bill_Date</th>\n",
       "      <th>Bill_No</th>\n",
       "      <th>Desscription_of_Goods/Services</th>\n",
       "      <th>Unnamed:_8</th>\n",
       "      <th>Unnamed:_9</th>\n",
       "      <th>Unnamed:_10</th>\n",
       "      <th>Unnamed:_11</th>\n",
       "      <th>Sales_Value_(Kshs)</th>\n",
       "    </tr>\n",
       "  </thead>\n",
       "  <tbody>\n",
       "    <tr>\n",
       "      <th>0</th>\n",
       "      <td>NaN</td>\n",
       "      <td>0</td>\n",
       "      <td>CASH</td>\n",
       "      <td>NaN</td>\n",
       "      <td>2022-10-01</td>\n",
       "      <td>IPF-7281-22</td>\n",
       "      <td>Medical Services</td>\n",
       "      <td>IPD</td>\n",
       "      <td>CASH SALE</td>\n",
       "      <td>NaN</td>\n",
       "      <td>NaN</td>\n",
       "      <td>148687.14</td>\n",
       "    </tr>\n",
       "    <tr>\n",
       "      <th>1</th>\n",
       "      <td>NaN</td>\n",
       "      <td>0</td>\n",
       "      <td>CASH</td>\n",
       "      <td>NaN</td>\n",
       "      <td>2022-10-01</td>\n",
       "      <td>IPF-7281-22</td>\n",
       "      <td>Medical Services</td>\n",
       "      <td>IPD</td>\n",
       "      <td>CASH SALE</td>\n",
       "      <td>NaN</td>\n",
       "      <td>NaN</td>\n",
       "      <td>148687.14</td>\n",
       "    </tr>\n",
       "  </tbody>\n",
       "</table>\n",
       "</div>"
      ],
      "text/plain": [
       "   Unnamed:_0 PIN_of_Customer Name_of_Customer  ETR_Serial_Number  Bill_Date  \\\n",
       "0         NaN               0             CASH                NaN 2022-10-01   \n",
       "1         NaN               0             CASH                NaN 2022-10-01   \n",
       "\n",
       "       Bill_No Desscription_of_Goods/Services Unnamed:_8 Unnamed:_9  \\\n",
       "0  IPF-7281-22               Medical Services        IPD  CASH SALE   \n",
       "1  IPF-7281-22               Medical Services        IPD  CASH SALE   \n",
       "\n",
       "   Unnamed:_10  Unnamed:_11  Sales_Value_(Kshs)  \n",
       "0          NaN          NaN           148687.14  \n",
       "1          NaN          NaN           148687.14  "
      ]
     },
     "execution_count": 91,
     "metadata": {},
     "output_type": "execute_result"
    }
   ],
   "source": [
    "df.head(2)"
   ]
  },
  {
   "cell_type": "code",
   "execution_count": 93,
   "id": "6b54af0d",
   "metadata": {},
   "outputs": [
    {
     "data": {
      "text/plain": [
       "(6610, 12)"
      ]
     },
     "execution_count": 93,
     "metadata": {},
     "output_type": "execute_result"
    }
   ],
   "source": [
    "df=df.drop_duplicates('Bill_No', keep='first')\n",
    "df.shape"
   ]
  },
  {
   "cell_type": "code",
   "execution_count": 97,
   "id": "b43cf1b1",
   "metadata": {},
   "outputs": [
    {
     "data": {
      "text/html": [
       "<div>\n",
       "<style scoped>\n",
       "    .dataframe tbody tr th:only-of-type {\n",
       "        vertical-align: middle;\n",
       "    }\n",
       "\n",
       "    .dataframe tbody tr th {\n",
       "        vertical-align: top;\n",
       "    }\n",
       "\n",
       "    .dataframe thead th {\n",
       "        text-align: right;\n",
       "    }\n",
       "</style>\n",
       "<table border=\"1\" class=\"dataframe\">\n",
       "  <thead>\n",
       "    <tr style=\"text-align: right;\">\n",
       "      <th></th>\n",
       "      <th>PIN_of_Customer</th>\n",
       "      <th>Name_of_Customer</th>\n",
       "      <th>ETR_Serial_Number</th>\n",
       "      <th>Bill_Date</th>\n",
       "      <th>Bill_No</th>\n",
       "      <th>Desscription_of_Goods/Services</th>\n",
       "      <th>Unnamed:_8</th>\n",
       "      <th>Unnamed:_9</th>\n",
       "      <th>Unnamed:_10</th>\n",
       "      <th>Unnamed:_11</th>\n",
       "      <th>Sales_Value_(Kshs)</th>\n",
       "    </tr>\n",
       "  </thead>\n",
       "  <tbody>\n",
       "    <tr>\n",
       "      <th>0</th>\n",
       "      <td>0</td>\n",
       "      <td>CASH</td>\n",
       "      <td>NaN</td>\n",
       "      <td>2022-10-01</td>\n",
       "      <td>IPF-7281-22</td>\n",
       "      <td>Medical Services</td>\n",
       "      <td>IPD</td>\n",
       "      <td>CASH SALE</td>\n",
       "      <td>NaN</td>\n",
       "      <td>NaN</td>\n",
       "      <td>148687.14</td>\n",
       "    </tr>\n",
       "    <tr>\n",
       "      <th>2</th>\n",
       "      <td>0</td>\n",
       "      <td>CASH</td>\n",
       "      <td>NaN</td>\n",
       "      <td>2022-10-03</td>\n",
       "      <td>IPF-7294-22</td>\n",
       "      <td>Medical Services</td>\n",
       "      <td>IPD</td>\n",
       "      <td>CASH SALE</td>\n",
       "      <td>NaN</td>\n",
       "      <td>NaN</td>\n",
       "      <td>48972.55</td>\n",
       "    </tr>\n",
       "    <tr>\n",
       "      <th>4</th>\n",
       "      <td>0</td>\n",
       "      <td>CASH</td>\n",
       "      <td>NaN</td>\n",
       "      <td>2022-10-08</td>\n",
       "      <td>IPF-7366-22</td>\n",
       "      <td>Medical Services</td>\n",
       "      <td>IPD</td>\n",
       "      <td>CASH SALE</td>\n",
       "      <td>NaN</td>\n",
       "      <td>NaN</td>\n",
       "      <td>59704.19</td>\n",
       "    </tr>\n",
       "    <tr>\n",
       "      <th>6</th>\n",
       "      <td>0</td>\n",
       "      <td>CASH</td>\n",
       "      <td>NaN</td>\n",
       "      <td>2022-10-14</td>\n",
       "      <td>IPF-7452-22</td>\n",
       "      <td>Medical Services</td>\n",
       "      <td>IPD</td>\n",
       "      <td>CASH SALE</td>\n",
       "      <td>NaN</td>\n",
       "      <td>NaN</td>\n",
       "      <td>82701.00</td>\n",
       "    </tr>\n",
       "    <tr>\n",
       "      <th>7</th>\n",
       "      <td>0</td>\n",
       "      <td>NHIF</td>\n",
       "      <td>NaN</td>\n",
       "      <td>2022-10-17</td>\n",
       "      <td>IPF-7490-22</td>\n",
       "      <td>Medical Services</td>\n",
       "      <td>IPD</td>\n",
       "      <td>CREDIT SALE</td>\n",
       "      <td>NaN</td>\n",
       "      <td>NaN</td>\n",
       "      <td>87500.00</td>\n",
       "    </tr>\n",
       "    <tr>\n",
       "      <th>8</th>\n",
       "      <td>0</td>\n",
       "      <td>NHIF</td>\n",
       "      <td>NaN</td>\n",
       "      <td>2022-10-17</td>\n",
       "      <td>IPF-7493-22</td>\n",
       "      <td>Medical Services</td>\n",
       "      <td>IPD</td>\n",
       "      <td>CREDIT SALE</td>\n",
       "      <td>NaN</td>\n",
       "      <td>NaN</td>\n",
       "      <td>43500.00</td>\n",
       "    </tr>\n",
       "    <tr>\n",
       "      <th>9</th>\n",
       "      <td>0</td>\n",
       "      <td>NHIF</td>\n",
       "      <td>NaN</td>\n",
       "      <td>2022-10-17</td>\n",
       "      <td>IPF-7494-22</td>\n",
       "      <td>Medical Services</td>\n",
       "      <td>IPD</td>\n",
       "      <td>CREDIT SALE</td>\n",
       "      <td>NaN</td>\n",
       "      <td>NaN</td>\n",
       "      <td>78900.00</td>\n",
       "    </tr>\n",
       "    <tr>\n",
       "      <th>11</th>\n",
       "      <td>0</td>\n",
       "      <td>NHIF</td>\n",
       "      <td>NaN</td>\n",
       "      <td>2022-10-17</td>\n",
       "      <td>IPF-7496-22</td>\n",
       "      <td>Medical Services</td>\n",
       "      <td>IPD</td>\n",
       "      <td>CREDIT SALE</td>\n",
       "      <td>NaN</td>\n",
       "      <td>NaN</td>\n",
       "      <td>84600.00</td>\n",
       "    </tr>\n",
       "    <tr>\n",
       "      <th>14</th>\n",
       "      <td>0</td>\n",
       "      <td>NHIF</td>\n",
       "      <td>NaN</td>\n",
       "      <td>2022-10-17</td>\n",
       "      <td>IPF-7497-22</td>\n",
       "      <td>Medical Services</td>\n",
       "      <td>IPD</td>\n",
       "      <td>CREDIT SALE</td>\n",
       "      <td>NaN</td>\n",
       "      <td>NaN</td>\n",
       "      <td>615000.00</td>\n",
       "    </tr>\n",
       "    <tr>\n",
       "      <th>17</th>\n",
       "      <td>0</td>\n",
       "      <td>NHIF</td>\n",
       "      <td>NaN</td>\n",
       "      <td>2022-10-18</td>\n",
       "      <td>IPF-7518-22</td>\n",
       "      <td>Medical Services</td>\n",
       "      <td>IPD</td>\n",
       "      <td>CREDIT SALE</td>\n",
       "      <td>NaN</td>\n",
       "      <td>NaN</td>\n",
       "      <td>1150000.00</td>\n",
       "    </tr>\n",
       "  </tbody>\n",
       "</table>\n",
       "</div>"
      ],
      "text/plain": [
       "   PIN_of_Customer Name_of_Customer  ETR_Serial_Number  Bill_Date  \\\n",
       "0                0             CASH                NaN 2022-10-01   \n",
       "2                0             CASH                NaN 2022-10-03   \n",
       "4                0             CASH                NaN 2022-10-08   \n",
       "6                0             CASH                NaN 2022-10-14   \n",
       "7                0             NHIF                NaN 2022-10-17   \n",
       "8                0             NHIF                NaN 2022-10-17   \n",
       "9                0             NHIF                NaN 2022-10-17   \n",
       "11               0             NHIF                NaN 2022-10-17   \n",
       "14               0             NHIF                NaN 2022-10-17   \n",
       "17               0             NHIF                NaN 2022-10-18   \n",
       "\n",
       "        Bill_No Desscription_of_Goods/Services Unnamed:_8   Unnamed:_9  \\\n",
       "0   IPF-7281-22               Medical Services        IPD    CASH SALE   \n",
       "2   IPF-7294-22               Medical Services        IPD    CASH SALE   \n",
       "4   IPF-7366-22               Medical Services        IPD    CASH SALE   \n",
       "6   IPF-7452-22               Medical Services        IPD    CASH SALE   \n",
       "7   IPF-7490-22               Medical Services        IPD  CREDIT SALE   \n",
       "8   IPF-7493-22               Medical Services        IPD  CREDIT SALE   \n",
       "9   IPF-7494-22               Medical Services        IPD  CREDIT SALE   \n",
       "11  IPF-7496-22               Medical Services        IPD  CREDIT SALE   \n",
       "14  IPF-7497-22               Medical Services        IPD  CREDIT SALE   \n",
       "17  IPF-7518-22               Medical Services        IPD  CREDIT SALE   \n",
       "\n",
       "    Unnamed:_10  Unnamed:_11  Sales_Value_(Kshs)  \n",
       "0           NaN          NaN           148687.14  \n",
       "2           NaN          NaN            48972.55  \n",
       "4           NaN          NaN            59704.19  \n",
       "6           NaN          NaN            82701.00  \n",
       "7           NaN          NaN            87500.00  \n",
       "8           NaN          NaN            43500.00  \n",
       "9           NaN          NaN            78900.00  \n",
       "11          NaN          NaN            84600.00  \n",
       "14          NaN          NaN           615000.00  \n",
       "17          NaN          NaN          1150000.00  "
      ]
     },
     "execution_count": 97,
     "metadata": {},
     "output_type": "execute_result"
    }
   ],
   "source": [
    "df.head(10)"
   ]
  },
  {
   "cell_type": "code",
   "execution_count": 94,
   "id": "49eb42ce",
   "metadata": {},
   "outputs": [],
   "source": [
    "df=df.drop('Unnamed:_0', axis=1)"
   ]
  },
  {
   "cell_type": "code",
   "execution_count": 95,
   "id": "ce932562",
   "metadata": {},
   "outputs": [
    {
     "data": {
      "text/plain": [
       "(6610, 11)"
      ]
     },
     "execution_count": 95,
     "metadata": {},
     "output_type": "execute_result"
    }
   ],
   "source": [
    "df.shape"
   ]
  },
  {
   "cell_type": "code",
   "execution_count": 98,
   "id": "0fe0e41b",
   "metadata": {},
   "outputs": [
    {
     "data": {
      "text/html": [
       "<div>\n",
       "<style scoped>\n",
       "    .dataframe tbody tr th:only-of-type {\n",
       "        vertical-align: middle;\n",
       "    }\n",
       "\n",
       "    .dataframe tbody tr th {\n",
       "        vertical-align: top;\n",
       "    }\n",
       "\n",
       "    .dataframe thead th {\n",
       "        text-align: right;\n",
       "    }\n",
       "</style>\n",
       "<table border=\"1\" class=\"dataframe\">\n",
       "  <thead>\n",
       "    <tr style=\"text-align: right;\">\n",
       "      <th></th>\n",
       "      <th>PIN_of_Customer</th>\n",
       "      <th>Name_of_Customer</th>\n",
       "      <th>ETR_Serial_Number</th>\n",
       "      <th>Bill_Date</th>\n",
       "      <th>Bill_No</th>\n",
       "      <th>Desscription_of_Goods/Services</th>\n",
       "      <th>Unnamed:_8</th>\n",
       "      <th>Unnamed:_9</th>\n",
       "      <th>Unnamed:_10</th>\n",
       "      <th>Unnamed:_11</th>\n",
       "      <th>Sales_Value_(Kshs)</th>\n",
       "    </tr>\n",
       "  </thead>\n",
       "  <tbody>\n",
       "    <tr>\n",
       "      <th>0</th>\n",
       "      <td>0</td>\n",
       "      <td>CASH</td>\n",
       "      <td>NaN</td>\n",
       "      <td>2022-10-01</td>\n",
       "      <td>IPF-7281-22</td>\n",
       "      <td>Medical Services</td>\n",
       "      <td>IPD</td>\n",
       "      <td>CASH SALE</td>\n",
       "      <td>NaN</td>\n",
       "      <td>NaN</td>\n",
       "      <td>148687.14</td>\n",
       "    </tr>\n",
       "    <tr>\n",
       "      <th>1</th>\n",
       "      <td>0</td>\n",
       "      <td>CASH</td>\n",
       "      <td>NaN</td>\n",
       "      <td>2022-10-03</td>\n",
       "      <td>IPF-7294-22</td>\n",
       "      <td>Medical Services</td>\n",
       "      <td>IPD</td>\n",
       "      <td>CASH SALE</td>\n",
       "      <td>NaN</td>\n",
       "      <td>NaN</td>\n",
       "      <td>48972.55</td>\n",
       "    </tr>\n",
       "    <tr>\n",
       "      <th>2</th>\n",
       "      <td>0</td>\n",
       "      <td>CASH</td>\n",
       "      <td>NaN</td>\n",
       "      <td>2022-10-08</td>\n",
       "      <td>IPF-7366-22</td>\n",
       "      <td>Medical Services</td>\n",
       "      <td>IPD</td>\n",
       "      <td>CASH SALE</td>\n",
       "      <td>NaN</td>\n",
       "      <td>NaN</td>\n",
       "      <td>59704.19</td>\n",
       "    </tr>\n",
       "    <tr>\n",
       "      <th>3</th>\n",
       "      <td>0</td>\n",
       "      <td>CASH</td>\n",
       "      <td>NaN</td>\n",
       "      <td>2022-10-14</td>\n",
       "      <td>IPF-7452-22</td>\n",
       "      <td>Medical Services</td>\n",
       "      <td>IPD</td>\n",
       "      <td>CASH SALE</td>\n",
       "      <td>NaN</td>\n",
       "      <td>NaN</td>\n",
       "      <td>82701.00</td>\n",
       "    </tr>\n",
       "    <tr>\n",
       "      <th>4</th>\n",
       "      <td>0</td>\n",
       "      <td>NHIF</td>\n",
       "      <td>NaN</td>\n",
       "      <td>2022-10-17</td>\n",
       "      <td>IPF-7490-22</td>\n",
       "      <td>Medical Services</td>\n",
       "      <td>IPD</td>\n",
       "      <td>CREDIT SALE</td>\n",
       "      <td>NaN</td>\n",
       "      <td>NaN</td>\n",
       "      <td>87500.00</td>\n",
       "    </tr>\n",
       "    <tr>\n",
       "      <th>...</th>\n",
       "      <td>...</td>\n",
       "      <td>...</td>\n",
       "      <td>...</td>\n",
       "      <td>...</td>\n",
       "      <td>...</td>\n",
       "      <td>...</td>\n",
       "      <td>...</td>\n",
       "      <td>...</td>\n",
       "      <td>...</td>\n",
       "      <td>...</td>\n",
       "      <td>...</td>\n",
       "    </tr>\n",
       "    <tr>\n",
       "      <th>6605</th>\n",
       "      <td>P000612260M</td>\n",
       "      <td>FIRST ASSURANCE</td>\n",
       "      <td>NaN</td>\n",
       "      <td>2022-10-06</td>\n",
       "      <td>PRF-12842</td>\n",
       "      <td>NaN</td>\n",
       "      <td>OPD</td>\n",
       "      <td>CREDIT SALE</td>\n",
       "      <td>NaN</td>\n",
       "      <td>NaN</td>\n",
       "      <td>-884.40</td>\n",
       "    </tr>\n",
       "    <tr>\n",
       "      <th>6606</th>\n",
       "      <td>P051752620Z</td>\n",
       "      <td>MAKL-TSC OUTPATIENT SCHEME</td>\n",
       "      <td>NaN</td>\n",
       "      <td>2022-10-23</td>\n",
       "      <td>PRF-13479</td>\n",
       "      <td>NaN</td>\n",
       "      <td>OPD</td>\n",
       "      <td>CREDIT SALE</td>\n",
       "      <td>NaN</td>\n",
       "      <td>NaN</td>\n",
       "      <td>-17825.00</td>\n",
       "    </tr>\n",
       "    <tr>\n",
       "      <th>6607</th>\n",
       "      <td>0</td>\n",
       "      <td>NHIF</td>\n",
       "      <td>NaN</td>\n",
       "      <td>2022-10-24</td>\n",
       "      <td>PRF-13524</td>\n",
       "      <td>NaN</td>\n",
       "      <td>OPD</td>\n",
       "      <td>CREDIT SALE</td>\n",
       "      <td>NaN</td>\n",
       "      <td>NaN</td>\n",
       "      <td>-240.00</td>\n",
       "    </tr>\n",
       "    <tr>\n",
       "      <th>6608</th>\n",
       "      <td>P051752620Z</td>\n",
       "      <td>AON MAKL-TSC</td>\n",
       "      <td>NaN</td>\n",
       "      <td>2022-10-08</td>\n",
       "      <td>IPCr-292</td>\n",
       "      <td>NaN</td>\n",
       "      <td>OPD</td>\n",
       "      <td>CREDIT SALE</td>\n",
       "      <td>NaN</td>\n",
       "      <td>NaN</td>\n",
       "      <td>-12000.00</td>\n",
       "    </tr>\n",
       "    <tr>\n",
       "      <th>6609</th>\n",
       "      <td>P051752620Z</td>\n",
       "      <td>AON MAKL-TSC</td>\n",
       "      <td>NaN</td>\n",
       "      <td>2022-10-11</td>\n",
       "      <td>IPCr-301</td>\n",
       "      <td>NaN</td>\n",
       "      <td>OPD</td>\n",
       "      <td>CREDIT SALE</td>\n",
       "      <td>NaN</td>\n",
       "      <td>NaN</td>\n",
       "      <td>-5500.00</td>\n",
       "    </tr>\n",
       "  </tbody>\n",
       "</table>\n",
       "<p>6610 rows × 11 columns</p>\n",
       "</div>"
      ],
      "text/plain": [
       "     PIN_of_Customer            Name_of_Customer  ETR_Serial_Number  \\\n",
       "0                  0                        CASH                NaN   \n",
       "1                  0                        CASH                NaN   \n",
       "2                  0                        CASH                NaN   \n",
       "3                  0                        CASH                NaN   \n",
       "4                  0                        NHIF                NaN   \n",
       "...              ...                         ...                ...   \n",
       "6605     P000612260M             FIRST ASSURANCE                NaN   \n",
       "6606     P051752620Z  MAKL-TSC OUTPATIENT SCHEME                NaN   \n",
       "6607               0                        NHIF                NaN   \n",
       "6608     P051752620Z                AON MAKL-TSC                NaN   \n",
       "6609     P051752620Z                AON MAKL-TSC                NaN   \n",
       "\n",
       "      Bill_Date      Bill_No Desscription_of_Goods/Services Unnamed:_8  \\\n",
       "0    2022-10-01  IPF-7281-22               Medical Services        IPD   \n",
       "1    2022-10-03  IPF-7294-22               Medical Services        IPD   \n",
       "2    2022-10-08  IPF-7366-22               Medical Services        IPD   \n",
       "3    2022-10-14  IPF-7452-22               Medical Services        IPD   \n",
       "4    2022-10-17  IPF-7490-22               Medical Services        IPD   \n",
       "...         ...          ...                            ...        ...   \n",
       "6605 2022-10-06    PRF-12842                            NaN        OPD   \n",
       "6606 2022-10-23    PRF-13479                            NaN        OPD   \n",
       "6607 2022-10-24    PRF-13524                            NaN        OPD   \n",
       "6608 2022-10-08     IPCr-292                            NaN        OPD   \n",
       "6609 2022-10-11     IPCr-301                            NaN        OPD   \n",
       "\n",
       "       Unnamed:_9  Unnamed:_10  Unnamed:_11  Sales_Value_(Kshs)  \n",
       "0       CASH SALE          NaN          NaN           148687.14  \n",
       "1       CASH SALE          NaN          NaN            48972.55  \n",
       "2       CASH SALE          NaN          NaN            59704.19  \n",
       "3       CASH SALE          NaN          NaN            82701.00  \n",
       "4     CREDIT SALE          NaN          NaN            87500.00  \n",
       "...           ...          ...          ...                 ...  \n",
       "6605  CREDIT SALE          NaN          NaN             -884.40  \n",
       "6606  CREDIT SALE          NaN          NaN           -17825.00  \n",
       "6607  CREDIT SALE          NaN          NaN             -240.00  \n",
       "6608  CREDIT SALE          NaN          NaN           -12000.00  \n",
       "6609  CREDIT SALE          NaN          NaN            -5500.00  \n",
       "\n",
       "[6610 rows x 11 columns]"
      ]
     },
     "execution_count": 98,
     "metadata": {},
     "output_type": "execute_result"
    }
   ],
   "source": [
    "df=df.reset_index(drop=True)\n",
    "df"
   ]
  },
  {
   "cell_type": "code",
   "execution_count": 99,
   "id": "3fdf27a4",
   "metadata": {},
   "outputs": [],
   "source": [
    "df.to_excel('summary_5.xlsx', index=None)"
   ]
  }
 ],
 "metadata": {
  "kernelspec": {
   "display_name": "Python 3 (ipykernel)",
   "language": "python",
   "name": "python3"
  },
  "language_info": {
   "codemirror_mode": {
    "name": "ipython",
    "version": 3
   },
   "file_extension": ".py",
   "mimetype": "text/x-python",
   "name": "python",
   "nbconvert_exporter": "python",
   "pygments_lexer": "ipython3",
   "version": "3.9.12"
  }
 },
 "nbformat": 4,
 "nbformat_minor": 5
}
